{
 "cells": [
  {
   "cell_type": "markdown",
   "id": "fe30c9f0",
   "metadata": {},
   "source": [
    "## Exercise 1\n",
    "Create a function matrix(...) that will create a matrix with m rows of length n. Initialize all entries to take value value, which defaults to be 0 if unspecified."
   ]
  },
  {
   "cell_type": "code",
   "execution_count": 3,
   "id": "5b2e820d",
   "metadata": {},
   "outputs": [],
   "source": [
    "value = 0\n",
    "def zero_matrix(m,n):\n",
    "    return [[value]*n for i in range(m)]\n",
    "\n",
    "def display_matrix(matrix):\n",
    "    for i in range(len(matrix)):\n",
    "        print(matrix[i])"
   ]
  },
  {
   "cell_type": "code",
   "execution_count": 4,
   "id": "208076c9",
   "metadata": {},
   "outputs": [
    {
     "name": "stdout",
     "output_type": "stream",
     "text": [
      "[0, 0, 0, 0, 0]\n",
      "[0, 0, 0, 0, 0]\n",
      "[0, 0, 0, 0, 0]\n"
     ]
    }
   ],
   "source": [
    "matrix = zero_matrix(3,5)\n",
    "display_matrix(matrix)"
   ]
  },
  {
   "cell_type": "markdown",
   "id": "ea3e30f0",
   "metadata": {},
   "source": [
    "## Exercise 2\n",
    "Write a function to check if two matrices are equal (Note: you should first check that they are the same size!)"
   ]
  },
  {
   "cell_type": "code",
   "execution_count": 8,
   "id": "13cec1fc",
   "metadata": {},
   "outputs": [],
   "source": [
    "def check_same(lst1,lst2):\n",
    "\n",
    "    if len(lst1) !=len(lst2):\n",
    "        print(\"must be same thing\")\n",
    "        return False\n",
    "    else:\n",
    "        return True"
   ]
  },
  {
   "cell_type": "code",
   "execution_count": 5,
   "id": "e9355c6d",
   "metadata": {},
   "outputs": [
    {
     "name": "stdout",
     "output_type": "stream",
     "text": [
      "[0, 0, 0, 0, 0]\n",
      "[0, 0, 0, 0, 0]\n",
      "[0, 0, 0, 0, 0]\n"
     ]
    }
   ],
   "source": [
    "matrix2 = zero_matrix(3,5)\n",
    "display_matrix(matrix2)"
   ]
  },
  {
   "cell_type": "code",
   "execution_count": 6,
   "id": "901d16e6",
   "metadata": {},
   "outputs": [
    {
     "name": "stdout",
     "output_type": "stream",
     "text": [
      "[0, 0, 0, 0, 0, 0]\n",
      "[0, 0, 0, 0, 0, 0]\n"
     ]
    }
   ],
   "source": [
    "matrix3 = zero_matrix(2,6)\n",
    "display_matrix(matrix3)"
   ]
  },
  {
   "cell_type": "code",
   "execution_count": 9,
   "id": "5a5f36c8",
   "metadata": {},
   "outputs": [
    {
     "name": "stdout",
     "output_type": "stream",
     "text": [
      "must be same thing\n"
     ]
    },
    {
     "data": {
      "text/plain": [
       "False"
      ]
     },
     "execution_count": 9,
     "metadata": {},
     "output_type": "execute_result"
    }
   ],
   "source": [
    "check_same(matrix3,matrix)"
   ]
  },
  {
   "cell_type": "code",
   "execution_count": 10,
   "id": "5143c744",
   "metadata": {},
   "outputs": [
    {
     "data": {
      "text/plain": [
       "True"
      ]
     },
     "execution_count": 10,
     "metadata": {},
     "output_type": "execute_result"
    }
   ],
   "source": [
    "check_same(matrix2,matrix)"
   ]
  },
  {
   "cell_type": "markdown",
   "id": "9cb296cb",
   "metadata": {},
   "source": [
    "## Exercise 3\n",
    "Write the following functions for your matrix:\n",
    "\n",
    "1. shape(matrix) that returns a tuple of the form (m,n) with the number of rows (m) and columns (n) of the matrix\n",
    "1. transpose(matrix) that returns the transpose (matrix[i][j] becomes matrix[j][i])\n",
    "1. row(matrix,i) and col(matrix,j) that return a list of the i--th row and the j--th column of the matrix\n",
    "1. block(matrix,m0,m1,n0,n1) that returns a new matrix which has the original matrix entries where the rows are between m0 and m1 (inclusive) and columns are between n0 and n1"
   ]
  },
  {
   "cell_type": "code",
   "execution_count": 11,
   "id": "e98f5672",
   "metadata": {},
   "outputs": [],
   "source": [
    "def shape(matrix):\n",
    "    m = len(matrix)\n",
    "    n = len(matrix[0])\n",
    "    return (m,n)\n",
    "\n",
    "def transpose(matrix):\n",
    "    new = [[matrix[j][i] for j in range(len(matrix))] for i in range(len(matrix[0]))]\n",
    "    for row in new:\n",
    "        print(row)\n",
    "\n",
    "\n",
    "def row(matrix,i):\n",
    "    print(matrix[i])\n",
    "    \n",
    "def col(matrix,j):\n",
    "    result = [row[j] for row in matrix]\n",
    "    print(result)\n",
    "    \n",
    "\n",
    "def block(matrix,m0,m1,n0,n1):\n",
    "    print(matrix[m0-1:n0])\n",
    "    result = [row[n0-1:n1] for row in matrix]\n",
    "    print(result)\n",
    "\n",
    "    \n"
   ]
  },
  {
   "cell_type": "code",
   "execution_count": 12,
   "id": "56fc5136",
   "metadata": {},
   "outputs": [
    {
     "data": {
      "text/plain": [
       "(2, 6)"
      ]
     },
     "execution_count": 12,
     "metadata": {},
     "output_type": "execute_result"
    }
   ],
   "source": [
    "shape(matrix3)"
   ]
  },
  {
   "cell_type": "code",
   "execution_count": 13,
   "id": "7ed0534a",
   "metadata": {},
   "outputs": [
    {
     "name": "stdout",
     "output_type": "stream",
     "text": [
      "[0, 0]\n",
      "[0, 0]\n",
      "[0, 0]\n",
      "[0, 0]\n",
      "[0, 0]\n",
      "[0, 0]\n"
     ]
    }
   ],
   "source": [
    "transpose(matrix3)"
   ]
  },
  {
   "cell_type": "code",
   "execution_count": 14,
   "id": "681bb600",
   "metadata": {},
   "outputs": [
    {
     "name": "stdout",
     "output_type": "stream",
     "text": [
      "[0, 0, 0, 0, 0, 0]\n"
     ]
    }
   ],
   "source": [
    "row(matrix3,1)"
   ]
  },
  {
   "cell_type": "code",
   "execution_count": 15,
   "id": "0b3416b5",
   "metadata": {},
   "outputs": [
    {
     "name": "stdout",
     "output_type": "stream",
     "text": [
      "[0, 0]\n"
     ]
    }
   ],
   "source": [
    "col(matrix3,5)"
   ]
  },
  {
   "cell_type": "code",
   "execution_count": 16,
   "id": "f8dda135",
   "metadata": {},
   "outputs": [
    {
     "name": "stdout",
     "output_type": "stream",
     "text": [
      "[[0, 0, 0, 0, 0]]\n",
      "[[0, 0], [0, 0], [0, 0]]\n"
     ]
    }
   ],
   "source": [
    "block(matrix2,1,2,1,2)"
   ]
  },
  {
   "cell_type": "markdown",
   "id": "91c7a2a6",
   "metadata": {},
   "source": [
    "## Exercise 4\n",
    "Write functions to make the following special types of matrices:\n",
    "\n",
    "1. Identity matrices: eye(n) should have value 1 on its diagonal and 0 elsewhere\n",
    "1. zeros(m,n) and ones(m,n) that create matrices with all 0 and all 1 entries, respectively."
   ]
  },
  {
   "cell_type": "code",
   "execution_count": 17,
   "id": "81cd00db",
   "metadata": {},
   "outputs": [],
   "source": [
    "def eye(n):\n",
    "    result=[[0 for x in range(n)] for y in range(n)]\n",
    "    for i in range(0,n):\n",
    "        result[i][i] = 1\n",
    "    return result"
   ]
  },
  {
   "cell_type": "code",
   "execution_count": 18,
   "id": "cbe4d253",
   "metadata": {},
   "outputs": [
    {
     "data": {
      "text/plain": [
       "[[1, 0, 0, 0, 0],\n",
       " [0, 1, 0, 0, 0],\n",
       " [0, 0, 1, 0, 0],\n",
       " [0, 0, 0, 1, 0],\n",
       " [0, 0, 0, 0, 1]]"
      ]
     },
     "execution_count": 18,
     "metadata": {},
     "output_type": "execute_result"
    }
   ],
   "source": [
    "eye(5)"
   ]
  },
  {
   "cell_type": "code",
   "execution_count": 19,
   "id": "9aee0b81",
   "metadata": {},
   "outputs": [],
   "source": [
    "def zero(m,n):\n",
    "    return [[0]*n for i in range(m)]\n",
    "\n",
    "def ones(m,n):\n",
    "    return [[1]*n for i in range(m)]"
   ]
  },
  {
   "cell_type": "code",
   "execution_count": 20,
   "id": "8e6a5ab6",
   "metadata": {},
   "outputs": [
    {
     "name": "stdout",
     "output_type": "stream",
     "text": [
      "[0, 0, 0, 0, 0]\n",
      "[0, 0, 0, 0, 0]\n",
      "[0, 0, 0, 0, 0]\n",
      "[0, 0, 0, 0, 0]\n"
     ]
    }
   ],
   "source": [
    "matrix_zero = zero(4,5)\n",
    "display_matrix(matrix_zero)"
   ]
  },
  {
   "cell_type": "code",
   "execution_count": 21,
   "id": "e245fbf3",
   "metadata": {},
   "outputs": [
    {
     "name": "stdout",
     "output_type": "stream",
     "text": [
      "[1, 1, 1, 1, 1]\n",
      "[1, 1, 1, 1, 1]\n",
      "[1, 1, 1, 1, 1]\n",
      "[1, 1, 1, 1, 1]\n"
     ]
    }
   ],
   "source": [
    "matrix_ones = ones(4,5)\n",
    "display_matrix(matrix_ones)"
   ]
  },
  {
   "cell_type": "markdown",
   "id": "e11c220e",
   "metadata": {},
   "source": [
    "## Exercise 5\n",
    "Write functions to perform the following operations:\n",
    "\n",
    "1. Multiply a matrix by a scalar\n",
    "1. Take elementwise product of two matrices\n",
    "1. Take the dot product of two vectors and two matrices of the same size\n",
    "1. Multiply two matrices (note you should check that the sizes allow this)"
   ]
  },
  {
   "cell_type": "code",
   "execution_count": 22,
   "id": "f8754484",
   "metadata": {},
   "outputs": [],
   "source": [
    "list1 = [1,2,1,1]\n",
    "list2 = [2,2,2,2]\n",
    "list3 = [1,2,1,1,5]"
   ]
  },
  {
   "cell_type": "code",
   "execution_count": 23,
   "id": "b5835629",
   "metadata": {},
   "outputs": [],
   "source": [
    "def scalar_list_multiply(scalar,lst):\n",
    "    out = []\n",
    "    for i in lst:\n",
    "        out.append(scalar*i)\n",
    "    return out\n",
    "\n",
    "\n",
    "def elementwise(lst1,lst2):\n",
    "    result = [lst1[i]*lst2[i] for i in range(len(lst1))]\n",
    "    return result\n",
    "\n",
    "\n",
    "def dot_product(lst1,lst2):\n",
    "    \n",
    "    result = sum(([i*j for (i, j) in zip(list1, list2)]))\n",
    "    return result\n",
    "\n",
    "\n",
    "def list_list_multiply(lst1,lst2):\n",
    "    if len(lst1) !=len(lst2):\n",
    "        print(\"Must be same size\")\n",
    "        return None\n",
    "    else:\n",
    "        out = []\n",
    "        for item1,item2 in zip(lst1,lst2):\n",
    "            out.append(item1*item2)\n",
    "        return out"
   ]
  },
  {
   "cell_type": "code",
   "execution_count": 24,
   "id": "8931fdf6",
   "metadata": {},
   "outputs": [
    {
     "data": {
      "text/plain": [
       "[8, 16, 24, 32, 40]"
      ]
     },
     "execution_count": 24,
     "metadata": {},
     "output_type": "execute_result"
    }
   ],
   "source": [
    "scalar_list_multiply(8,[1,2,3,4,5])"
   ]
  },
  {
   "cell_type": "code",
   "execution_count": 25,
   "id": "d0f71128",
   "metadata": {},
   "outputs": [
    {
     "data": {
      "text/plain": [
       "[2, 4, 2, 2]"
      ]
     },
     "execution_count": 25,
     "metadata": {},
     "output_type": "execute_result"
    }
   ],
   "source": [
    "elementwise(list1,list2)"
   ]
  },
  {
   "cell_type": "code",
   "execution_count": 26,
   "id": "803b8ac7",
   "metadata": {},
   "outputs": [
    {
     "data": {
      "text/plain": [
       "10"
      ]
     },
     "execution_count": 26,
     "metadata": {},
     "output_type": "execute_result"
    }
   ],
   "source": [
    "dot_product(list1,list2)"
   ]
  },
  {
   "cell_type": "code",
   "execution_count": 27,
   "id": "cfa4c5bc",
   "metadata": {},
   "outputs": [
    {
     "name": "stdout",
     "output_type": "stream",
     "text": [
      "Must be same size\n"
     ]
    }
   ],
   "source": [
    "list_list_multiply(list1,list3)"
   ]
  },
  {
   "cell_type": "code",
   "execution_count": 28,
   "id": "7fcb7d61",
   "metadata": {},
   "outputs": [
    {
     "data": {
      "text/plain": [
       "[5, 8, 3, 2]"
      ]
     },
     "execution_count": 28,
     "metadata": {},
     "output_type": "execute_result"
    }
   ],
   "source": [
    "list_list_multiply(list1,[5,4,3,2])"
   ]
  },
  {
   "cell_type": "code",
   "execution_count": null,
   "id": "409bd5e0",
   "metadata": {},
   "outputs": [],
   "source": []
  }
 ],
 "metadata": {
  "kernelspec": {
   "display_name": "Python 3 (ipykernel)",
   "language": "python",
   "name": "python3"
  },
  "language_info": {
   "codemirror_mode": {
    "name": "ipython",
    "version": 3
   },
   "file_extension": ".py",
   "mimetype": "text/x-python",
   "name": "python",
   "nbconvert_exporter": "python",
   "pygments_lexer": "ipython3",
   "version": "3.8.10"
  }
 },
 "nbformat": 4,
 "nbformat_minor": 5
}
