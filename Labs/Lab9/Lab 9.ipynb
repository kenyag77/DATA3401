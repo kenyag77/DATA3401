{
 "cells": [
  {
   "cell_type": "markdown",
   "id": "4e1c21f0",
   "metadata": {},
   "source": [
    "## Exercise 1"
   ]
  },
  {
   "cell_type": "code",
   "execution_count": 66,
   "id": "8f8a50dd",
   "metadata": {},
   "outputs": [],
   "source": [
    "class matrix:\n",
    "    \n",
    "    def __init__(self, m = 5, n= 5):\n",
    "        self.m = m\n",
    "        self.n = n  \n",
    "        value = 0 \n",
    "        print([[value]*n for i in range(m)])\n"
   ]
  },
  {
   "cell_type": "code",
   "execution_count": 67,
   "id": "23b9cc2f",
   "metadata": {},
   "outputs": [
    {
     "name": "stdout",
     "output_type": "stream",
     "text": [
      "[[0, 0], [0, 0], [0, 0]]\n"
     ]
    },
    {
     "data": {
      "text/plain": [
       "<__main__.matrix at 0x7f1020243850>"
      ]
     },
     "execution_count": 67,
     "metadata": {},
     "output_type": "execute_result"
    }
   ],
   "source": [
    "matrix(3,2)"
   ]
  },
  {
   "cell_type": "markdown",
   "id": "8d65e1b5",
   "metadata": {},
   "source": [
    "## Exercise 2"
   ]
  },
  {
   "cell_type": "code",
   "execution_count": 104,
   "id": "14931fc5",
   "metadata": {},
   "outputs": [],
   "source": [
    "class matrix:\n",
    "    \n",
    "    def __init__(self, m = 5, n= 5):\n",
    "        self.m = m\n",
    "        self.n = n  \n",
    "        value = 0 \n",
    "        print([[value]*n for i in range(m)])\n",
    "        \n",
    "    def scalarmul(scalar, matrix):\n",
    "        out = []\n",
    "        for i in matrix:\n",
    "            out.append(scalar*i)\n",
    "        print(out)\n",
    "        \n",
    "    def add(matrix1 , matrix2):\n",
    "        final = [[0,0,0],\n",
    "         [0,0,0],\n",
    "         [0,0,0]]\n",
    "        if len(matrix1) != len(matrix2):\n",
    "            print(\"Must be the same length\")\n",
    "        else:\n",
    "            for i in range(len(matrix1)):\n",
    "                for j in range(len(matrix1[0])):\n",
    "                    final[i][j] = matrix1[i][j]+matrix2[i][j]\n",
    "            \n",
    "            print(final)\n",
    "            \n",
    "    def sub(matrix1 , matrix2):\n",
    "        final = [[0,0,0],\n",
    "         [0,0,0],\n",
    "         [0,0,0]]\n",
    "        if len(matrix1) != len(matrix2):\n",
    "            print(\"Must be the same length\")\n",
    "        else:\n",
    "            for i in range(len(matrix1)):\n",
    "                for j in range(len(matrix1[0])):\n",
    "                    final[i][j] = matrix1[i][j]-matrix2[i][j]\n",
    "            \n",
    "            print(final)\n",
    "    \n",
    "    def mat_mult(matrix1,matrix2):\n",
    "        final = [[0,0,0],\n",
    "         [0,0,0],\n",
    "         [0,0,0]]        \n",
    "        \n",
    "        if len(matrix1) != len(matrix2):\n",
    "            print(\"Must be the same length\")\n",
    "        else:\n",
    "            for i in range(len(matrix1)):\n",
    "                for j in range(len(matrix1[0])):\n",
    "                    final[i][j] = matrix1[i][j]*matrix2[i][j]\n",
    "            \n",
    "            print(final)    \n",
    "            \n",
    "    def element_mult(matrix1,matrix2):\n",
    "        if len(matrix1) != len(matrix2):\n",
    "            print(\"Must be the same length\")\n",
    "        else:        \n",
    "            result = [[0,0,0],\n",
    "         [0,0,0],\n",
    "         [0,0,0]]   \n",
    "            result = [matrix1[i]*matrix2[i] for i in range(len(matrix1))]\n",
    "            print(result)\n",
    "            \n",
    "    def equals(matrix1,matrix2):\n",
    "\n",
    "        if len(matrix1) !=len(matrix2):\n",
    "            print(\"must be same thing\")\n",
    "            return False\n",
    "        else:\n",
    "            return True"
   ]
  },
  {
   "cell_type": "code",
   "execution_count": 94,
   "id": "3546ffd1",
   "metadata": {},
   "outputs": [
    {
     "name": "stdout",
     "output_type": "stream",
     "text": [
      "[[2, 2, 2], [4, 4, 4], [6, 6, 6]]\n",
      "[[0, 0, 0], [0, 0, 0], [0, 0, 0]]\n"
     ]
    }
   ],
   "source": [
    "a = [[1,1,1],\n",
    "    [2,2,2],\n",
    "    [3,3,3]]\n",
    "b = [[1,1,1],\n",
    "    [2,2,2],\n",
    "    [3,3,3]]\n",
    "\n",
    "m = matrix.add(a,b)\n",
    "mm = matrix.sub(a,b)\n"
   ]
  },
  {
   "cell_type": "code",
   "execution_count": 95,
   "id": "45ca8525",
   "metadata": {
    "scrolled": true
   },
   "outputs": [
    {
     "name": "stdout",
     "output_type": "stream",
     "text": [
      "[[1, 1, 1, 1, 1, 1, 1, 1, 1], [2, 2, 2, 2, 2, 2, 2, 2, 2], [3, 3, 3, 3, 3, 3, 3, 3, 3]]\n"
     ]
    }
   ],
   "source": [
    "mmm = matrix.scalarmul(3,a)"
   ]
  },
  {
   "cell_type": "code",
   "execution_count": 98,
   "id": "1c64a8c9",
   "metadata": {},
   "outputs": [
    {
     "name": "stdout",
     "output_type": "stream",
     "text": [
      "[[1, 1, 1], [4, 4, 4], [9, 9, 9]]\n"
     ]
    }
   ],
   "source": [
    "mmmm = matrix.mat_mult(a,b)"
   ]
  },
  {
   "cell_type": "code",
   "execution_count": 103,
   "id": "4e1a6e1e",
   "metadata": {},
   "outputs": [
    {
     "ename": "TypeError",
     "evalue": "can't multiply sequence by non-int of type 'list'",
     "output_type": "error",
     "traceback": [
      "\u001b[0;31m---------------------------------------------------------------------------\u001b[0m",
      "\u001b[0;31mTypeError\u001b[0m                                 Traceback (most recent call last)",
      "\u001b[0;32m/tmp/ipykernel_88/276335763.py\u001b[0m in \u001b[0;36m<module>\u001b[0;34m\u001b[0m\n\u001b[0;32m----> 1\u001b[0;31m \u001b[0mmmmmmm\u001b[0m \u001b[0;34m=\u001b[0m \u001b[0mmatrix\u001b[0m\u001b[0;34m.\u001b[0m\u001b[0melement_mult\u001b[0m\u001b[0;34m(\u001b[0m\u001b[0ma\u001b[0m\u001b[0;34m,\u001b[0m\u001b[0mb\u001b[0m\u001b[0;34m)\u001b[0m\u001b[0;34m\u001b[0m\u001b[0;34m\u001b[0m\u001b[0m\n\u001b[0m",
      "\u001b[0;32m/tmp/ipykernel_88/1797447550.py\u001b[0m in \u001b[0;36melement_mult\u001b[0;34m(matrix1, matrix2)\u001b[0m\n\u001b[1;32m     60\u001b[0m          \u001b[0;34m[\u001b[0m\u001b[0;36m0\u001b[0m\u001b[0;34m,\u001b[0m\u001b[0;36m0\u001b[0m\u001b[0;34m,\u001b[0m\u001b[0;36m0\u001b[0m\u001b[0;34m]\u001b[0m\u001b[0;34m,\u001b[0m\u001b[0;34m\u001b[0m\u001b[0;34m\u001b[0m\u001b[0m\n\u001b[1;32m     61\u001b[0m          [0,0,0]]   \n\u001b[0;32m---> 62\u001b[0;31m             \u001b[0mresult\u001b[0m \u001b[0;34m=\u001b[0m \u001b[0;34m[\u001b[0m\u001b[0mmatrix1\u001b[0m\u001b[0;34m[\u001b[0m\u001b[0mi\u001b[0m\u001b[0;34m]\u001b[0m\u001b[0;34m*\u001b[0m\u001b[0mmatrix2\u001b[0m\u001b[0;34m[\u001b[0m\u001b[0mi\u001b[0m\u001b[0;34m]\u001b[0m \u001b[0;32mfor\u001b[0m \u001b[0mi\u001b[0m \u001b[0;32min\u001b[0m \u001b[0mrange\u001b[0m\u001b[0;34m(\u001b[0m\u001b[0mlen\u001b[0m\u001b[0;34m(\u001b[0m\u001b[0mmatrix1\u001b[0m\u001b[0;34m)\u001b[0m\u001b[0;34m)\u001b[0m\u001b[0;34m]\u001b[0m\u001b[0;34m\u001b[0m\u001b[0;34m\u001b[0m\u001b[0m\n\u001b[0m\u001b[1;32m     63\u001b[0m             \u001b[0mprint\u001b[0m\u001b[0;34m(\u001b[0m\u001b[0mresult\u001b[0m\u001b[0;34m)\u001b[0m\u001b[0;34m\u001b[0m\u001b[0;34m\u001b[0m\u001b[0m\n",
      "\u001b[0;32m/tmp/ipykernel_88/1797447550.py\u001b[0m in \u001b[0;36m<listcomp>\u001b[0;34m(.0)\u001b[0m\n\u001b[1;32m     60\u001b[0m          \u001b[0;34m[\u001b[0m\u001b[0;36m0\u001b[0m\u001b[0;34m,\u001b[0m\u001b[0;36m0\u001b[0m\u001b[0;34m,\u001b[0m\u001b[0;36m0\u001b[0m\u001b[0;34m]\u001b[0m\u001b[0;34m,\u001b[0m\u001b[0;34m\u001b[0m\u001b[0;34m\u001b[0m\u001b[0m\n\u001b[1;32m     61\u001b[0m          [0,0,0]]   \n\u001b[0;32m---> 62\u001b[0;31m             \u001b[0mresult\u001b[0m \u001b[0;34m=\u001b[0m \u001b[0;34m[\u001b[0m\u001b[0mmatrix1\u001b[0m\u001b[0;34m[\u001b[0m\u001b[0mi\u001b[0m\u001b[0;34m]\u001b[0m\u001b[0;34m*\u001b[0m\u001b[0mmatrix2\u001b[0m\u001b[0;34m[\u001b[0m\u001b[0mi\u001b[0m\u001b[0;34m]\u001b[0m \u001b[0;32mfor\u001b[0m \u001b[0mi\u001b[0m \u001b[0;32min\u001b[0m \u001b[0mrange\u001b[0m\u001b[0;34m(\u001b[0m\u001b[0mlen\u001b[0m\u001b[0;34m(\u001b[0m\u001b[0mmatrix1\u001b[0m\u001b[0;34m)\u001b[0m\u001b[0;34m)\u001b[0m\u001b[0;34m]\u001b[0m\u001b[0;34m\u001b[0m\u001b[0;34m\u001b[0m\u001b[0m\n\u001b[0m\u001b[1;32m     63\u001b[0m             \u001b[0mprint\u001b[0m\u001b[0;34m(\u001b[0m\u001b[0mresult\u001b[0m\u001b[0;34m)\u001b[0m\u001b[0;34m\u001b[0m\u001b[0;34m\u001b[0m\u001b[0m\n",
      "\u001b[0;31mTypeError\u001b[0m: can't multiply sequence by non-int of type 'list'"
     ]
    }
   ],
   "source": [
    "mmmmmm = matrix.element_mult(a,b)"
   ]
  },
  {
   "cell_type": "code",
   "execution_count": 106,
   "id": "f39d5adc",
   "metadata": {},
   "outputs": [
    {
     "name": "stdout",
     "output_type": "stream",
     "text": [
      "True\n"
     ]
    }
   ],
   "source": [
    "n = matrix.equals(a,b)\n",
    "print(n)"
   ]
  },
  {
   "cell_type": "markdown",
   "id": "d7c22f9c",
   "metadata": {},
   "source": [
    "## Exercise 3"
   ]
  },
  {
   "cell_type": "code",
   "execution_count": null,
   "id": "84e10405",
   "metadata": {},
   "outputs": [],
   "source": [
    "def zeros(m,n):\n",
    "    return [[0]*n for x in range(m)]\n",
    "\n",
    "def constant(m,n,c):\n",
    "    return [[c]*n for x in range(m)]\n",
    "\n",
    "def ones(m,n,c):\n",
    "    return constant(m,n,1)\n",
    "\n"
   ]
  }
 ],
 "metadata": {
  "kernelspec": {
   "display_name": "Python 3 (ipykernel)",
   "language": "python",
   "name": "python3"
  },
  "language_info": {
   "codemirror_mode": {
    "name": "ipython",
    "version": 3
   },
   "file_extension": ".py",
   "mimetype": "text/x-python",
   "name": "python",
   "nbconvert_exporter": "python",
   "pygments_lexer": "ipython3",
   "version": "3.8.10"
  }
 },
 "nbformat": 4,
 "nbformat_minor": 5
}
