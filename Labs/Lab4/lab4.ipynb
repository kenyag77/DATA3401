{
 "cells": [
  {
   "cell_type": "markdown",
   "id": "b09a7bb9",
   "metadata": {},
   "source": [
    "## Lab Dates: 9/24 & 10/1\n",
    "## Due Date 10/8 (before the beginning of lab)\n",
    "## Lab Description\n",
    "The purpose of this lab is for you to code your own tic-tac-toe game that takes input from the user for each player and visualizes the state of the board after each move\n",
    "\n",
    "As in the previous labs, copy and paste the cells below into a jupyter notebook titled Lab 4\n",
    "Solve the problems and push them to a new Lab 4 folder in your GitHub repo prior to the deadline\n",
    "You will build an n x n Tic Tac Toe game. As you do the exercises, make sure your solutions work for any size Tic Tac Toe game, not just the standard 3x3.\n",
    "\n",
    "##  Exercise 1:\n",
    "Write a function that creates an n by n matrix (a list of lists) which will represent the state of a Tic Tac Toe game. Let 0, 1, and 2 represent empty, \"X\", or \"O\"."
   ]
  },
  {
   "cell_type": "code",
   "execution_count": 41,
   "id": "e1042973",
   "metadata": {},
   "outputs": [],
   "source": [
    "empty = 0\n",
    "play = {1 : \"X\",\n",
    "       2 : 'O'}\n",
    "def boardgame(size):\n",
    "    board = [[empty]*size for i in range(size)]\n",
    "    for i in range(size):\n",
    "        print(board[i])\n",
    "      "
   ]
  },
  {
   "cell_type": "code",
   "execution_count": 42,
   "id": "6a19e620",
   "metadata": {},
   "outputs": [
    {
     "name": "stdout",
     "output_type": "stream",
     "text": [
      "[0, 0, 0, 0]\n",
      "[0, 0, 0, 0]\n",
      "[0, 0, 0, 0]\n",
      "[0, 0, 0, 0]\n"
     ]
    }
   ],
   "source": [
    "boardgame(4)\n"
   ]
  },
  {
   "cell_type": "markdown",
   "id": "99ff0460",
   "metadata": {},
   "source": [
    "## Exercise 2:\n",
    "Write a function that takes a n by n matrix representing a tic-tac-toe game, and returns -1, 0, 1, or 2 indicating the game is incomplete, the game is a draw, player 1 has won, or player 2 has one, respectively. Here are some example inputs you can use to test your code:"
   ]
  },
  {
   "cell_type": "code",
   "execution_count": 43,
   "id": "8c8fca93",
   "metadata": {},
   "outputs": [],
   "source": [
    "winner_is_2 = [[2, 2, 0],\n",
    "\t[2, 1, 0],\n",
    "\t[2, 1, 1]]\n",
    "\n",
    "winner_is_1 = [[1, 2, 0],\n",
    "\t[2, 1, 0],\n",
    "\t[2, 1, 1]]\n",
    "\n",
    "winner_is_also_1 = [[0, 1, 0],\n",
    "\t[2, 1, 0],\n",
    "\t[2, 1, 1]]\n",
    "\n",
    "no_winner = [[1, 2, 0],\n",
    "\t[2, 1, 0],\n",
    "\t[2, 1, 2]]\n",
    "\n",
    "also_no_winner = [[1, 2, 0],\n",
    "\t[2, 1, 0],\n",
    "\t[2, 1, 0]]\n",
    "\n",
    "draw = [[1, 2, 1],\n",
    "\t[2, 1, 1],\n",
    "\t[2, 1, 2]]\n"
   ]
  },
  {
   "cell_type": "code",
   "execution_count": 44,
   "id": "ed0e32d5",
   "metadata": {},
   "outputs": [],
   "source": [
    "def checkrow(board,i):\n",
    "    \n",
    "    same = board[i][0]\n",
    "    for col in range(len(board)):\n",
    "        if board[i][col] != same:\n",
    "            same = 0\n",
    "            return 0\n",
    "    return same\n",
    "            \n",
    "def checkcolumn(board,j):\n",
    "    same = board[0][j]\n",
    "    for row in range(len(board)):\n",
    "        if board[row][j] != same:\n",
    "            same = 0\n",
    "            return 0\n",
    "    return same\n",
    "\n",
    "def checkdiagonal1(board):\n",
    "    \n",
    "    same = board[0][0]\n",
    "    for row in range(len(board)):\n",
    "        if board[row][row] != same:\n",
    "            same = 0\n",
    "            return 0\n",
    "        elif board[row][row] == 0:\n",
    "            return -1\n",
    "    return same  \n",
    "\n",
    "def checkdiagonal2(board):\n",
    "    \n",
    "    same = board[0][len(board) - 1]\n",
    "    for row in range(len(board)):\n",
    "        if board[row][len(board) - 1 -row] != same:\n",
    "            return 0\n",
    "        elif board[row][len(board) - 1-row] == 0:\n",
    "              return -1\n",
    "    return same   "
   ]
  },
  {
   "cell_type": "code",
   "execution_count": 45,
   "id": "e9b2862c",
   "metadata": {},
   "outputs": [],
   "source": [
    "def checkwinner(board):\n",
    "    \n",
    "    for col in range(len(board)):\n",
    "        winner = checkcolumn(board, col)\n",
    "        if winner:\n",
    "            return winner    \n",
    "        \n",
    "    for row in range(len(board)):\n",
    "        winner = checkrow(board, row)\n",
    "        if winner:\n",
    "            return winner\n",
    "\n",
    "    winner = checkdiagonal1(board)\n",
    "    if winner:\n",
    "        return winner\n",
    "    \n",
    "    winner = checkdiagonal2(board)\n",
    "    if winner:\n",
    "        return winner\n",
    "    \n",
    "    return winner\n"
   ]
  },
  {
   "cell_type": "code",
   "execution_count": 12,
   "id": "1a4cb6b4",
   "metadata": {},
   "outputs": [
    {
     "name": "stdout",
     "output_type": "stream",
     "text": [
      "2\n",
      "1\n",
      "1\n",
      "-1\n",
      "-1\n",
      "0\n"
     ]
    }
   ],
   "source": [
    "print(checkwinner(winner_is_2))\n",
    "print(checkwinner(winner_is_1))\n",
    "print(checkwinner(winner_is_also_1))\n",
    "print(checkwinner(no_winner))\n",
    "print(checkwinner(also_no_winner))\n",
    "print(checkwinner(draw))"
   ]
  },
  {
   "cell_type": "code",
   "execution_count": null,
   "id": "3f218e0a",
   "metadata": {},
   "outputs": [],
   "source": []
  },
  {
   "cell_type": "code",
   "execution_count": null,
   "id": "1f0d614e",
   "metadata": {},
   "outputs": [],
   "source": []
  },
  {
   "cell_type": "markdown",
   "id": "f4ccc8c9",
   "metadata": {},
   "source": [
    "## Exercise 3:\n",
    "Write a function that takes 2 integers n and m as input and draws a n by m game board. For example the following is a 3x3 board:\n",
    "\n"
   ]
  },
  {
   "cell_type": "code",
   "execution_count": 13,
   "id": "b91c534f",
   "metadata": {},
   "outputs": [],
   "source": [
    "def boardgame2(n,m):\n",
    "    \n",
    "    board2 = [[empty]*m for i in range(n)]\n",
    "    for i in range(n):\n",
    "        print(board2[i])\n",
    "        "
   ]
  },
  {
   "cell_type": "code",
   "execution_count": 14,
   "id": "fd2bfb89",
   "metadata": {
    "scrolled": true
   },
   "outputs": [
    {
     "name": "stdout",
     "output_type": "stream",
     "text": [
      "[0, 0, 0, 0, 0]\n",
      "[0, 0, 0, 0, 0]\n",
      "[0, 0, 0, 0, 0]\n",
      "[0, 0, 0, 0, 0]\n",
      "[0, 0, 0, 0]\n",
      "[0, 0, 0, 0]\n",
      "[0]\n",
      "[0]\n"
     ]
    }
   ],
   "source": [
    "boardgame2(4,5)\n",
    "boardgame2(2,4)\n",
    "boardgame2(2,1)"
   ]
  },
  {
   "cell_type": "markdown",
   "id": "bfc5d761",
   "metadata": {},
   "source": [
    "## Exercise 4:\n",
    "Modify exercise 3, so that it takes a matrix of the form from exercise 2 and draws a tic-tac-tie board with \"X\"s and \"O\"s."
   ]
  },
  {
   "cell_type": "code",
   "execution_count": 15,
   "id": "3e5db575",
   "metadata": {},
   "outputs": [],
   "source": [
    "def boardprint(n,m):\n",
    "    i =0\n",
    "    j =1\n",
    "    board2 = [[empty]*m for k in range(n)]\n",
    "    \n",
    "    for k in range(m):\n",
    "        while i < len(board2):\n",
    "            board2[i] = play[1]\n",
    "            i += 2\n",
    "            \n",
    "        while j  < len(board2):\n",
    "            board2[j] = play[2]\n",
    "            j += 2\n",
    "            \n",
    "        print(board2) \n",
    "        "
   ]
  },
  {
   "cell_type": "code",
   "execution_count": 16,
   "id": "e42c5331",
   "metadata": {},
   "outputs": [
    {
     "name": "stdout",
     "output_type": "stream",
     "text": [
      "['X', 'O', 'X']\n",
      "['X', 'O', 'X']\n",
      "['X', 'O', 'X']\n"
     ]
    }
   ],
   "source": [
    "boardprint(3,3)"
   ]
  },
  {
   "cell_type": "code",
   "execution_count": 17,
   "id": "b8de23bd",
   "metadata": {},
   "outputs": [
    {
     "name": "stdout",
     "output_type": "stream",
     "text": [
      "['X', 'O', 'X', 'O', 'X']\n",
      "['X', 'O', 'X', 'O', 'X']\n",
      "['X', 'O', 'X', 'O', 'X']\n"
     ]
    }
   ],
   "source": [
    "boardprint(5,3)"
   ]
  },
  {
   "cell_type": "code",
   "execution_count": 18,
   "id": "79228621",
   "metadata": {},
   "outputs": [
    {
     "name": "stdout",
     "output_type": "stream",
     "text": [
      "['X', 'O', 'X', 'O']\n",
      "['X', 'O', 'X', 'O']\n"
     ]
    }
   ],
   "source": [
    "boardprint(4,2)"
   ]
  },
  {
   "cell_type": "markdown",
   "id": "7230182f",
   "metadata": {},
   "source": [
    "## Exercise 5:\n",
    "Write a function that takes a game board, player number, and (x,y) coordinates and places \"X\" or \"O\" in the correct location of the game board. Make sure that you only allow filling previously empty locations. Return True or False to indicate successful placement of \"X\" or \"O\"."
   ]
  },
  {
   "cell_type": "code",
   "execution_count": 22,
   "id": "235ff278",
   "metadata": {},
   "outputs": [],
   "source": [
    "import random\n",
    "\n",
    "board = []\n",
    "empty = 0\n",
    "play = {1 : \"X\",\n",
    "       2 : 'O'}\n",
    "\n",
    "def choose_first():\n",
    "    flip = random.randint(0,1)\n",
    "    if flip == 0:\n",
    "        return 'Player_1'\n",
    "    else:\n",
    "        return 'Player_2'\n",
    "    \n",
    "    \n",
    "def boardempty(board):\n",
    "    \n",
    "    size = len(board)\n",
    "    print(\"Player 1 is X\\nPlayer 2 is O\")\n",
    "    size = int(input(\"Enter board size: \"))\n",
    "    \n",
    "    board = [[empty]*size for i in range(size)]\n",
    "    for i in range(size):\n",
    "        print(board[i])\n",
    "    return board"
   ]
  },
  {
   "cell_type": "code",
   "execution_count": 35,
   "id": "171c045a",
   "metadata": {},
   "outputs": [],
   "source": [
    "play = {1:\"X\",3:\"X\",5:\"X\",7:\"X\",9:\"X\",11:\"X\",13:\"X\",15:\"X\",17:\"X\",19:\"X\",21:\"X\",23:\"X\",25:\"X\",\n",
    "       2:'O',4:'O',6:'O',8:'O',10:'O',12:'O',14:'O',16:'O',18:'O',20:'O',22:'O',24:'O'}\n",
    "\n",
    "\n",
    "def chooseaspot(board):\n",
    "    turn = choose_first()\n",
    "    print(turn + ' will go first')\n",
    "    board = boardempty(board)\n",
    "    total = len(board) * len(board)\n",
    "    \n",
    "    k = 1\n",
    "    \n",
    "    while k <= total:\n",
    "\n",
    "        row = int(input(\"Row: \"))\n",
    "        col = int(input(\"Col: \"))\n",
    "        if board[row][col] !=0 or row < 0 or row >= len(board) \\\n",
    "            or col < 0 or col >= len(board):\n",
    "            \n",
    "            print(\"Invalid move. Try again.\")\n",
    "            print(bool(play[k]))\n",
    "            k -=1\n",
    "            \n",
    "        else:\n",
    "            board[row][col] = play[k]\n",
    "            print(board)\n",
    "            print(bool(play[k]))\n",
    "        k += 1"
   ]
  },
  {
   "cell_type": "code",
   "execution_count": 37,
   "id": "59ede0a7",
   "metadata": {},
   "outputs": [
    {
     "name": "stdout",
     "output_type": "stream",
     "text": [
      "Player_1 will go first\n",
      "Player 1 is X\n",
      "Player 2 is O\n",
      "Enter board size: 3\n",
      "[0, 0, 0]\n",
      "[0, 0, 0]\n",
      "[0, 0, 0]\n",
      "Row: 0\n",
      "Col: 0\n",
      "[['X', 0, 0], [0, 0, 0], [0, 0, 0]]\n",
      "True\n",
      "Row: 0\n",
      "Col: 1\n",
      "[['X', 'O', 0], [0, 0, 0], [0, 0, 0]]\n",
      "True\n",
      "Row: 0\n",
      "Col: 2\n",
      "[['X', 'O', 'X'], [0, 0, 0], [0, 0, 0]]\n",
      "True\n",
      "Row: 0\n",
      "Col: 0\n",
      "Invalid move. Try again.\n",
      "True\n",
      "Row: 1\n",
      "Col: 0\n",
      "[['X', 'O', 'X'], ['O', 0, 0], [0, 0, 0]]\n",
      "True\n",
      "Row: 1\n",
      "Col: 1\n",
      "[['X', 'O', 'X'], ['O', 'X', 0], [0, 0, 0]]\n",
      "True\n",
      "Row: 1\n",
      "Col: 2\n",
      "[['X', 'O', 'X'], ['O', 'X', 'O'], [0, 0, 0]]\n",
      "True\n",
      "Row: 2\n",
      "Col: 0\n",
      "[['X', 'O', 'X'], ['O', 'X', 'O'], ['X', 0, 0]]\n",
      "True\n",
      "Row: 2\n",
      "Col: 1\n",
      "[['X', 'O', 'X'], ['O', 'X', 'O'], ['X', 'O', 0]]\n",
      "True\n",
      "Row: 2\n",
      "Col: 2\n",
      "[['X', 'O', 'X'], ['O', 'X', 'O'], ['X', 'O', 'X']]\n",
      "True\n"
     ]
    }
   ],
   "source": [
    "chooseaspot(board)"
   ]
  },
  {
   "cell_type": "markdown",
   "id": "83e11d8e",
   "metadata": {},
   "source": [
    "## Exercise 6:\n",
    "Modify Exercise 5 to show column and row labels so that players can specify location using \"A2\" or \"C1\"."
   ]
  },
  {
   "cell_type": "code",
   "execution_count": 48,
   "id": "1c668783",
   "metadata": {},
   "outputs": [],
   "source": [
    "size = 5\n",
    "player_1_piece = \"X\"\n",
    "player_2_piece = \"O\"\n",
    "empty_space = \" \""
   ]
  },
  {
   "cell_type": "code",
   "execution_count": 49,
   "id": "c7695c54",
   "metadata": {},
   "outputs": [
    {
     "data": {
      "text/plain": [
       "{'A': 0, 'B': 1, 'C': 2, 'D': 3, 'E': 4}"
      ]
     },
     "execution_count": 49,
     "metadata": {},
     "output_type": "execute_result"
    }
   ],
   "source": [
    "row_names = list(\"ABCDEFGHIJKLMNOPQRSTUVWXYZ\")\n",
    "row_map = dict(zip(row_names, range(size)))\n",
    "row_map"
   ]
  },
  {
   "cell_type": "code",
   "execution_count": 50,
   "id": "50ae0ac1",
   "metadata": {},
   "outputs": [
    {
     "data": {
      "text/plain": [
       "{'1': 0, '2': 1, '3': 2, '4': 3, '5': 4}"
      ]
     },
     "execution_count": 50,
     "metadata": {},
     "output_type": "execute_result"
    }
   ],
   "source": [
    "column_names = list(map(str,range(1,size+1)))\n",
    "column_map = dict(zip(column_names,range(size)))\n",
    "column_map"
   ]
  },
  {
   "cell_type": "code",
   "execution_count": 51,
   "id": "141541cd",
   "metadata": {},
   "outputs": [],
   "source": [
    "def drawboard(board):\n",
    "    \n",
    "    size = len(board)\n",
    "    print(\"Player 1 is X\\nPlayer 2 is O\")\n",
    "    size = int(input(\"Enter board size: \"))\n",
    "    \n",
    "    print(\" \",end=\" \")    \n",
    "    for i in range(size):\n",
    "        print(column_names[i],end=\" \")\n",
    "    print()\n",
    "    \n",
    "    for i in range(size):\n",
    "        print(row_names[i],end=\" \")\n",
    "        print()\n",
    "    return board\n",
    "\n",
    "\n",
    "def chooseaspot(board):\n",
    "    \n",
    "\n",
    "    turn = choose_first()\n",
    "    print(turn + ' will go first')\n",
    "    board = drawboard(board)\n",
    "    total = len(board) * len(board)\n",
    "    k = 1\n",
    "    \n",
    "    while k <= total:\n",
    "        \n",
    "        row = input(\"Row: \")\n",
    "        col = input(\"Col: \")\n",
    "        row = row_map[row]\n",
    "        col = column_map[col]\n",
    "        \n",
    "        location = board[row][col]\n",
    "        \n",
    "        if location != 0:\n",
    "            \n",
    "            print(\"Invalid move. Try again.\")\n",
    "            print(bool(play[k]))\n",
    "            k -=1\n",
    "            \n",
    "        else:\n",
    "            board[row][col] = play[k]\n",
    "            print(board)\n",
    "            print(bool(play[k]))\n",
    "        k += 1"
   ]
  },
  {
   "cell_type": "code",
   "execution_count": 52,
   "id": "c9f74dba",
   "metadata": {},
   "outputs": [
    {
     "name": "stdout",
     "output_type": "stream",
     "text": [
      "Player_1 will go first\n",
      "Player 1 is X\n",
      "Player 2 is O\n",
      "Enter board size: 3\n",
      "  1 2 3 \n",
      "A \n",
      "B \n",
      "C \n"
     ]
    }
   ],
   "source": [
    "chooseaspot(board)"
   ]
  },
  {
   "cell_type": "markdown",
   "id": "8fc2778b",
   "metadata": {},
   "source": [
    "## Exercise 8:\n",
    "Write a function is called with a board and player number, takes input from the player using python's input, and modifies the board using your function from exercise 7. Note that you should keep asking for input until you have gotten a valid input that results in a valid move."
   ]
  },
  {
   "cell_type": "code",
   "execution_count": 77,
   "id": "1020a31c",
   "metadata": {},
   "outputs": [],
   "source": [
    "# i have to change size every time \n",
    "size = 5\n",
    "player_1_piece = \"X\"\n",
    "player_2_piece = \"O\"\n",
    "empty_space = \" \"\n"
   ]
  },
  {
   "cell_type": "code",
   "execution_count": 78,
   "id": "cddb89b4",
   "metadata": {},
   "outputs": [
    {
     "data": {
      "text/plain": [
       "{'A': 0, 'B': 1, 'C': 2, 'D': 3, 'E': 4}"
      ]
     },
     "execution_count": 78,
     "metadata": {},
     "output_type": "execute_result"
    }
   ],
   "source": [
    "row_names = list(\"ABCDEFGHIJKLMNOPQRSTUVWXYZ\")\n",
    "row_map = dict(zip(row_names, range(size)))\n",
    "row_map"
   ]
  },
  {
   "cell_type": "code",
   "execution_count": 79,
   "id": "e78dbe65",
   "metadata": {},
   "outputs": [
    {
     "data": {
      "text/plain": [
       "{'1': 0, '2': 1, '3': 2, '4': 3, '5': 4}"
      ]
     },
     "execution_count": 79,
     "metadata": {},
     "output_type": "execute_result"
    }
   ],
   "source": [
    "column_names = list(map(str,range(1,size+1)))\n",
    "column_map = dict(zip(column_names,range(size)))\n",
    "column_map"
   ]
  },
  {
   "cell_type": "code",
   "execution_count": 80,
   "id": "3e279413",
   "metadata": {},
   "outputs": [],
   "source": [
    "def boardempty(board):\n",
    "    \n",
    "    size = len(board)\n",
    "    print(\"Player 1 is X\\nPlayer 2 is O\")\n",
    "    size = int(input(\"Enter board size: \"))\n",
    "    \n",
    "    board = [[empty]*size for i in range(size)]\n",
    "    for i in range(size):\n",
    "        print(board[i])\n",
    "    return board"
   ]
  },
  {
   "cell_type": "code",
   "execution_count": 81,
   "id": "44d8a35c",
   "metadata": {},
   "outputs": [],
   "source": [
    "def drawboard(board):\n",
    "     \n",
    "    board = boardempty(board)   \n",
    "    \n",
    "    print(\" \",end=\" \")    \n",
    "    for i in range(size):\n",
    "        print(column_names[i],end=\" \")\n",
    "    print()\n",
    "    \n",
    " \n",
    "    for i in range(size):\n",
    "        print(row_names[i],end=\" \")\n",
    "        print()\n",
    "\n",
    "        \n",
    "    return board"
   ]
  },
  {
   "cell_type": "code",
   "execution_count": 82,
   "id": "3ae49945",
   "metadata": {},
   "outputs": [],
   "source": [
    "play = {1:\"X\",3:\"X\",5:\"X\",7:\"X\",9:\"X\",11:\"X\",13:\"X\",15:\"X\",17:\"X\",19:\"X\",21:\"X\",23:\"X\",25:\"X\",\n",
    "       2:'O',4:'O',6:'O',8:'O',10:'O',12:'O',14:'O',16:'O',18:'O',20:'O',22:'O',24:'O'}\n",
    "\n",
    "\n",
    "def playermoves(board):\n",
    "    \n",
    "    turn = choose_first()\n",
    "    print(turn + ' will go first')\n",
    "    board = drawboard(board)\n",
    "    total = len(board) * len(board)\n",
    "\n",
    "    k = 1\n",
    "    \n",
    "    #moved inside while\n",
    "    while k <= total:\n",
    "\n",
    "        #cannot be str? \n",
    "        row = input(\"Row: \")\n",
    "        col = input(\"Col: \")\n",
    "        row = row_map[row]\n",
    "        col = column_map[col]\n",
    "        \n",
    "        location = board[row][col]\n",
    "  \n",
    "        if location != 0 or isinstance(board[row], str) or isinstance(board[col], int):\n",
    "            \n",
    "            print(\"Invalid move. Try again.\")\n",
    "            k -=1\n",
    "            \n",
    "        else:\n",
    "            board[row][col] = play[k]\n",
    "            print(board)\n",
    "            \n",
    "        k += 1\n",
    "    return(board)"
   ]
  },
  {
   "cell_type": "code",
   "execution_count": 67,
   "id": "359add8b",
   "metadata": {},
   "outputs": [
    {
     "name": "stdout",
     "output_type": "stream",
     "text": [
      "Player_2 will go first\n",
      "Player 1 is X\n",
      "Player 2 is O\n",
      "Enter board size: 3\n",
      "[0, 0, 0]\n",
      "[0, 0, 0]\n",
      "[0, 0, 0]\n",
      "  1 2 3 \n",
      "A \n",
      "B \n",
      "C \n",
      "Row: A\n",
      "Col: 1\n",
      "[['X', 0, 0], [0, 0, 0], [0, 0, 0]]\n",
      "Row: B\n",
      "Col: 1\n",
      "[['X', 0, 0], ['O', 0, 0], [0, 0, 0]]\n",
      "Row: C\n",
      "Col: 1\n",
      "[['X', 0, 0], ['O', 0, 0], ['X', 0, 0]]\n",
      "Row: A\n",
      "Col: 2\n",
      "[['X', 'O', 0], ['O', 0, 0], ['X', 0, 0]]\n",
      "Row: B\n",
      "Col: 2\n",
      "[['X', 'O', 0], ['O', 'X', 0], ['X', 0, 0]]\n",
      "Row: B\n",
      "Col: 3\n",
      "[['X', 'O', 0], ['O', 'X', 'O'], ['X', 0, 0]]\n",
      "Row: B\n",
      "Col: 3\n",
      "Invalid move. Try again.\n",
      "Row: A\n",
      "Col: 1\n",
      "Invalid move. Try again.\n",
      "Row: C\n",
      "Col: 1\n",
      "Invalid move. Try again.\n",
      "Row: C\n",
      "Col: 1\n",
      "Invalid move. Try again.\n",
      "Row: C\n",
      "Col: 2\n",
      "[['X', 'O', 0], ['O', 'X', 'O'], ['X', 'X', 0]]\n",
      "Row: C\n",
      "Col: 3\n",
      "[['X', 'O', 0], ['O', 'X', 'O'], ['X', 'X', 'O']]\n",
      "Row: A\n",
      "Col: 3\n",
      "[['X', 'O', 'X'], ['O', 'X', 'O'], ['X', 'X', 'O']]\n"
     ]
    }
   ],
   "source": [
    "playermoves(board)"
   ]
  },
  {
   "cell_type": "markdown",
   "id": "0f9d245e",
   "metadata": {},
   "source": [
    "## Exercise 9:\n",
    "Use all of the previous exercises to implement a full tic-tac-toe game, where an appropriate board is drawn, 2 players are repeatedly asked for a location coordinates of where they wish to place a mark, and the game status is checked until a player wins or a draw occurs."
   ]
  },
  {
   "cell_type": "code",
   "execution_count": 72,
   "id": "7048ad8f",
   "metadata": {},
   "outputs": [],
   "source": [
    "def main():\n",
    "    board = []\n",
    "    winner = None                   \n",
    "    num_moves = 0\n",
    "    while winner == None:\n",
    "        board = playermoves(board)\n",
    "        num_moves += 1  # Keep track of total moves made\n",
    "        winner = checkwinner(board)   \n",
    "        if not winner:\n",
    "            if num_moves == len(board) ** 2:  # If all spaces on board are filled\n",
    "                winner = \"No one\"       # then there is no winner.\n",
    "    print(board)\n",
    "    print(winner)\n"
   ]
  },
  {
   "cell_type": "code",
   "execution_count": 74,
   "id": "d5b86f0a",
   "metadata": {},
   "outputs": [
    {
     "name": "stdout",
     "output_type": "stream",
     "text": [
      "Player_1 will go first\n",
      "Player 1 is X\n",
      "Player 2 is O\n",
      "Enter board size: 3\n",
      "[0, 0, 0]\n",
      "[0, 0, 0]\n",
      "[0, 0, 0]\n",
      "  1 2 3 \n",
      "A \n",
      "B \n",
      "C \n",
      "Row: B\n",
      "Col: 1\n",
      "[[0, 0, 0], ['X', 0, 0], [0, 0, 0]]\n",
      "Row: A\n",
      "Col: 1\n",
      "[['O', 0, 0], ['X', 0, 0], [0, 0, 0]]\n",
      "Row: B\n",
      "Col: 2\n",
      "[['O', 0, 0], ['X', 'X', 0], [0, 0, 0]]\n",
      "Row: A\n",
      "Col: 2\n",
      "[['O', 'O', 0], ['X', 'X', 0], [0, 0, 0]]\n",
      "Row: B\n",
      "Col: 3\n",
      "[['O', 'O', 0], ['X', 'X', 'X'], [0, 0, 0]]\n",
      "Row: C\n",
      "Col: 1\n",
      "[['O', 'O', 0], ['X', 'X', 'X'], ['O', 0, 0]]\n",
      "Row: A\n",
      "Col: 1\n",
      "Invalid move. Try again.\n",
      "Row: A\n",
      "Col: 3\n",
      "[['O', 'O', 'X'], ['X', 'X', 'X'], ['O', 0, 0]]\n",
      "Row: C\n",
      "Col: 2\n",
      "[['O', 'O', 'X'], ['X', 'X', 'X'], ['O', 'O', 0]]\n",
      "Row: C\n",
      "Col: 3\n",
      "[['O', 'O', 'X'], ['X', 'X', 'X'], ['O', 'O', 'X']]\n",
      "[['O', 'O', 'X'], ['X', 'X', 'X'], ['O', 'O', 'X']]\n",
      "X\n"
     ]
    }
   ],
   "source": [
    "main()"
   ]
  },
  {
   "cell_type": "markdown",
   "id": "0fe67b34",
   "metadata": {},
   "source": [
    "\n",
    "## Exercise 10:\n",
    "Test that your game works for 5x5 Tic Tac Toe."
   ]
  },
  {
   "cell_type": "code",
   "execution_count": 83,
   "id": "1b6aa9cd",
   "metadata": {},
   "outputs": [
    {
     "name": "stdout",
     "output_type": "stream",
     "text": [
      "Player_1 will go first\n",
      "Player 1 is X\n",
      "Player 2 is O\n",
      "Enter board size: 5\n",
      "[0, 0, 0, 0, 0]\n",
      "[0, 0, 0, 0, 0]\n",
      "[0, 0, 0, 0, 0]\n",
      "[0, 0, 0, 0, 0]\n",
      "[0, 0, 0, 0, 0]\n",
      "  1 2 3 4 5 \n",
      "A \n",
      "B \n",
      "C \n",
      "D \n",
      "E \n",
      "Row: A\n",
      "Col: 1\n",
      "[['X', 0, 0, 0, 0], [0, 0, 0, 0, 0], [0, 0, 0, 0, 0], [0, 0, 0, 0, 0], [0, 0, 0, 0, 0]]\n",
      "Row: B\n",
      "Col: 1\n",
      "[['X', 0, 0, 0, 0], ['O', 0, 0, 0, 0], [0, 0, 0, 0, 0], [0, 0, 0, 0, 0], [0, 0, 0, 0, 0]]\n",
      "Row: B\n",
      "Col: 2\n",
      "[['X', 0, 0, 0, 0], ['O', 'X', 0, 0, 0], [0, 0, 0, 0, 0], [0, 0, 0, 0, 0], [0, 0, 0, 0, 0]]\n",
      "Row: A\n",
      "Col: 3\n",
      "[['X', 0, 'O', 0, 0], ['O', 'X', 0, 0, 0], [0, 0, 0, 0, 0], [0, 0, 0, 0, 0], [0, 0, 0, 0, 0]]\n",
      "Row: C\n",
      "Col: 3\n",
      "[['X', 0, 'O', 0, 0], ['O', 'X', 0, 0, 0], [0, 0, 'X', 0, 0], [0, 0, 0, 0, 0], [0, 0, 0, 0, 0]]\n",
      "Row: C\n",
      "Col: 2\n",
      "[['X', 0, 'O', 0, 0], ['O', 'X', 0, 0, 0], [0, 'O', 'X', 0, 0], [0, 0, 0, 0, 0], [0, 0, 0, 0, 0]]\n",
      "Row: D\n",
      "Col: 4\n",
      "[['X', 0, 'O', 0, 0], ['O', 'X', 0, 0, 0], [0, 'O', 'X', 0, 0], [0, 0, 0, 'X', 0], [0, 0, 0, 0, 0]]\n",
      "Row: D\n",
      "Col: 2\n",
      "[['X', 0, 'O', 0, 0], ['O', 'X', 0, 0, 0], [0, 'O', 'X', 0, 0], [0, 'O', 0, 'X', 0], [0, 0, 0, 0, 0]]\n",
      "Row: E\n",
      "Col: 5\n",
      "[['X', 0, 'O', 0, 0], ['O', 'X', 0, 0, 0], [0, 'O', 'X', 0, 0], [0, 'O', 0, 'X', 0], [0, 0, 0, 0, 'X']]\n"
     ]
    },
    {
     "ename": "KeyboardInterrupt",
     "evalue": "Interrupted by user",
     "output_type": "error",
     "traceback": [
      "\u001b[0;31m---------------------------------------------------------------------------\u001b[0m",
      "\u001b[0;31mKeyboardInterrupt\u001b[0m                         Traceback (most recent call last)",
      "\u001b[0;32m/tmp/ipykernel_234/451043146.py\u001b[0m in \u001b[0;36m<module>\u001b[0;34m\u001b[0m\n\u001b[0;32m----> 1\u001b[0;31m \u001b[0mmain\u001b[0m\u001b[0;34m(\u001b[0m\u001b[0;34m)\u001b[0m\u001b[0;34m\u001b[0m\u001b[0;34m\u001b[0m\u001b[0m\n\u001b[0m",
      "\u001b[0;32m/tmp/ipykernel_234/2215603341.py\u001b[0m in \u001b[0;36mmain\u001b[0;34m()\u001b[0m\n\u001b[1;32m      4\u001b[0m     \u001b[0mnum_moves\u001b[0m \u001b[0;34m=\u001b[0m \u001b[0;36m0\u001b[0m\u001b[0;34m\u001b[0m\u001b[0;34m\u001b[0m\u001b[0m\n\u001b[1;32m      5\u001b[0m     \u001b[0;32mwhile\u001b[0m \u001b[0mwinner\u001b[0m \u001b[0;34m==\u001b[0m \u001b[0;32mNone\u001b[0m\u001b[0;34m:\u001b[0m\u001b[0;34m\u001b[0m\u001b[0;34m\u001b[0m\u001b[0m\n\u001b[0;32m----> 6\u001b[0;31m         \u001b[0mboard\u001b[0m \u001b[0;34m=\u001b[0m \u001b[0mplayermoves\u001b[0m\u001b[0;34m(\u001b[0m\u001b[0mboard\u001b[0m\u001b[0;34m)\u001b[0m\u001b[0;34m\u001b[0m\u001b[0;34m\u001b[0m\u001b[0m\n\u001b[0m\u001b[1;32m      7\u001b[0m         \u001b[0mnum_moves\u001b[0m \u001b[0;34m+=\u001b[0m \u001b[0;36m1\u001b[0m  \u001b[0;31m# Keep track of total moves made\u001b[0m\u001b[0;34m\u001b[0m\u001b[0;34m\u001b[0m\u001b[0m\n\u001b[1;32m      8\u001b[0m         \u001b[0mwinner\u001b[0m \u001b[0;34m=\u001b[0m \u001b[0mcheckwinner\u001b[0m\u001b[0;34m(\u001b[0m\u001b[0mboard\u001b[0m\u001b[0;34m)\u001b[0m\u001b[0;34m\u001b[0m\u001b[0;34m\u001b[0m\u001b[0m\n",
      "\u001b[0;32m/tmp/ipykernel_234/3714705120.py\u001b[0m in \u001b[0;36mplayermoves\u001b[0;34m(board)\u001b[0m\n\u001b[1;32m     16\u001b[0m \u001b[0;34m\u001b[0m\u001b[0m\n\u001b[1;32m     17\u001b[0m         \u001b[0;31m#cannot be str?\u001b[0m\u001b[0;34m\u001b[0m\u001b[0;34m\u001b[0m\u001b[0;34m\u001b[0m\u001b[0m\n\u001b[0;32m---> 18\u001b[0;31m         \u001b[0mrow\u001b[0m \u001b[0;34m=\u001b[0m \u001b[0minput\u001b[0m\u001b[0;34m(\u001b[0m\u001b[0;34m\"Row: \"\u001b[0m\u001b[0;34m)\u001b[0m\u001b[0;34m\u001b[0m\u001b[0;34m\u001b[0m\u001b[0m\n\u001b[0m\u001b[1;32m     19\u001b[0m         \u001b[0mcol\u001b[0m \u001b[0;34m=\u001b[0m \u001b[0minput\u001b[0m\u001b[0;34m(\u001b[0m\u001b[0;34m\"Col: \"\u001b[0m\u001b[0;34m)\u001b[0m\u001b[0;34m\u001b[0m\u001b[0;34m\u001b[0m\u001b[0m\n\u001b[1;32m     20\u001b[0m         \u001b[0mrow\u001b[0m \u001b[0;34m=\u001b[0m \u001b[0mrow_map\u001b[0m\u001b[0;34m[\u001b[0m\u001b[0mrow\u001b[0m\u001b[0;34m]\u001b[0m\u001b[0;34m\u001b[0m\u001b[0;34m\u001b[0m\u001b[0m\n",
      "\u001b[0;32m/usr/local/lib/python3.8/dist-packages/ipykernel/kernelbase.py\u001b[0m in \u001b[0;36mraw_input\u001b[0;34m(self, prompt)\u001b[0m\n\u001b[1;32m   1004\u001b[0m                 \u001b[0;34m\"raw_input was called, but this frontend does not support input requests.\"\u001b[0m\u001b[0;34m\u001b[0m\u001b[0;34m\u001b[0m\u001b[0m\n\u001b[1;32m   1005\u001b[0m             )\n\u001b[0;32m-> 1006\u001b[0;31m         return self._input_request(\n\u001b[0m\u001b[1;32m   1007\u001b[0m             \u001b[0mstr\u001b[0m\u001b[0;34m(\u001b[0m\u001b[0mprompt\u001b[0m\u001b[0;34m)\u001b[0m\u001b[0;34m,\u001b[0m\u001b[0;34m\u001b[0m\u001b[0;34m\u001b[0m\u001b[0m\n\u001b[1;32m   1008\u001b[0m             \u001b[0mself\u001b[0m\u001b[0;34m.\u001b[0m\u001b[0m_parent_ident\u001b[0m\u001b[0;34m[\u001b[0m\u001b[0;34m\"shell\"\u001b[0m\u001b[0;34m]\u001b[0m\u001b[0;34m,\u001b[0m\u001b[0;34m\u001b[0m\u001b[0;34m\u001b[0m\u001b[0m\n",
      "\u001b[0;32m/usr/local/lib/python3.8/dist-packages/ipykernel/kernelbase.py\u001b[0m in \u001b[0;36m_input_request\u001b[0;34m(self, prompt, ident, parent, password)\u001b[0m\n\u001b[1;32m   1049\u001b[0m             \u001b[0;32mexcept\u001b[0m \u001b[0mKeyboardInterrupt\u001b[0m\u001b[0;34m:\u001b[0m\u001b[0;34m\u001b[0m\u001b[0;34m\u001b[0m\u001b[0m\n\u001b[1;32m   1050\u001b[0m                 \u001b[0;31m# re-raise KeyboardInterrupt, to truncate traceback\u001b[0m\u001b[0;34m\u001b[0m\u001b[0;34m\u001b[0m\u001b[0;34m\u001b[0m\u001b[0m\n\u001b[0;32m-> 1051\u001b[0;31m                 \u001b[0;32mraise\u001b[0m \u001b[0mKeyboardInterrupt\u001b[0m\u001b[0;34m(\u001b[0m\u001b[0;34m\"Interrupted by user\"\u001b[0m\u001b[0;34m)\u001b[0m \u001b[0;32mfrom\u001b[0m \u001b[0;32mNone\u001b[0m\u001b[0;34m\u001b[0m\u001b[0;34m\u001b[0m\u001b[0m\n\u001b[0m\u001b[1;32m   1052\u001b[0m             \u001b[0;32mexcept\u001b[0m \u001b[0mException\u001b[0m\u001b[0;34m:\u001b[0m\u001b[0;34m\u001b[0m\u001b[0;34m\u001b[0m\u001b[0m\n\u001b[1;32m   1053\u001b[0m                 \u001b[0mself\u001b[0m\u001b[0;34m.\u001b[0m\u001b[0mlog\u001b[0m\u001b[0;34m.\u001b[0m\u001b[0mwarning\u001b[0m\u001b[0;34m(\u001b[0m\u001b[0;34m\"Invalid Message:\"\u001b[0m\u001b[0;34m,\u001b[0m \u001b[0mexc_info\u001b[0m\u001b[0;34m=\u001b[0m\u001b[0;32mTrue\u001b[0m\u001b[0;34m)\u001b[0m\u001b[0;34m\u001b[0m\u001b[0;34m\u001b[0m\u001b[0m\n",
      "\u001b[0;31mKeyboardInterrupt\u001b[0m: Interrupted by user"
     ]
    }
   ],
   "source": [
    "main()"
   ]
  },
  {
   "cell_type": "markdown",
   "id": "aff2466c",
   "metadata": {},
   "source": [
    "## Exercise 11:(Extra Credit)\n",
    "Develop a version of the game where one player is the computer. Note that you don't need to do an extensive seach for the best move. You can have the computer simply protect against loosing and otherwise try to win with straight or diagonal patterns."
   ]
  },
  {
   "cell_type": "code",
   "execution_count": null,
   "id": "c7802760",
   "metadata": {},
   "outputs": [],
   "source": []
  }
 ],
 "metadata": {
  "kernelspec": {
   "display_name": "Python 3 (ipykernel)",
   "language": "python",
   "name": "python3"
  },
  "language_info": {
   "codemirror_mode": {
    "name": "ipython",
    "version": 3
   },
   "file_extension": ".py",
   "mimetype": "text/x-python",
   "name": "python",
   "nbconvert_exporter": "python",
   "pygments_lexer": "ipython3",
   "version": "3.8.10"
  }
 },
 "nbformat": 4,
 "nbformat_minor": 5
}
