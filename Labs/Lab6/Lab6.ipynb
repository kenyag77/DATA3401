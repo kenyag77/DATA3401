{
 "cells": [
  {
   "cell_type": "markdown",
   "id": "5a59c923",
   "metadata": {},
   "source": [
    "## Exersice 1"
   ]
  },
  {
   "cell_type": "code",
   "execution_count": 3,
   "id": "c1e5ce31",
   "metadata": {},
   "outputs": [],
   "source": [
    "import numpy as np\n",
    "\n",
    "def game_setup():\n",
    "    doors = np.array([1,2,3])\n",
    "    prizes = np.array([0,1])\n",
    "    bigprize = np.random.choice(doors)\n",
    "    return [doors, prizes, bigprize]"
   ]
  },
  {
   "cell_type": "code",
   "execution_count": 184,
   "id": "77e7c403",
   "metadata": {},
   "outputs": [
    {
     "data": {
      "text/plain": [
       "[array([1, 2, 3]), array([0, 1]), 2]"
      ]
     },
     "execution_count": 184,
     "metadata": {},
     "output_type": "execute_result"
    }
   ],
   "source": [
    "game_setup()"
   ]
  },
  {
   "cell_type": "markdown",
   "id": "d8d52f63",
   "metadata": {},
   "source": [
    "## Exersice 2"
   ]
  },
  {
   "cell_type": "code",
   "execution_count": 4,
   "id": "be585895",
   "metadata": {},
   "outputs": [],
   "source": [
    "def choose_door():\n",
    "    i = 0\n",
    "    while i < 1:\n",
    "        \n",
    "        choose = input(\"Choose a door (1,2, or 3): \")\n",
    "        choose = int(choose)\n",
    "        if (choose == 1 ) or (choose == 2) or (choose == 3):\n",
    "            return choose \n",
    "            i += 1\n",
    "        else:\n",
    "            print(\"Please choose a door 1-3\")"
   ]
  },
  {
   "cell_type": "code",
   "execution_count": 265,
   "id": "1dad4949",
   "metadata": {},
   "outputs": [
    {
     "name": "stdout",
     "output_type": "stream",
     "text": [
      "Choose a door (1,2, or 3): 8\n",
      "Please choose a door 1-3\n",
      "Choose a door (1,2, or 3): 2\n"
     ]
    },
    {
     "data": {
      "text/plain": [
       "2"
      ]
     },
     "execution_count": 265,
     "metadata": {},
     "output_type": "execute_result"
    }
   ],
   "source": [
    "choose_door()"
   ]
  },
  {
   "cell_type": "code",
   "execution_count": null,
   "id": "5f755d44",
   "metadata": {},
   "outputs": [],
   "source": []
  },
  {
   "cell_type": "markdown",
   "id": "079c423a",
   "metadata": {},
   "source": [
    "## Exersice 3"
   ]
  },
  {
   "cell_type": "code",
   "execution_count": 268,
   "id": "d35caae2",
   "metadata": {},
   "outputs": [],
   "source": [
    "def switch_stay():\n",
    "    i = 0\n",
    "    while i < 1:\n",
    "        \n",
    "        switch = input(\"Do you want to switch doors?(Y/N): \")\n",
    "        \n",
    "        if (switch == 'Y') or (switch == 'y'):\n",
    "            return switch.upper()\n",
    "            i += 1\n",
    "        \n",
    "        elif (switch == 'N') or (switch == 'n'):\n",
    "            return switch.upper()\n",
    "            i += 1\n",
    "            \n",
    "        else:\n",
    "            print(\"Please answer Y/N\")\n",
    "            "
   ]
  },
  {
   "cell_type": "code",
   "execution_count": 269,
   "id": "e24b56da",
   "metadata": {},
   "outputs": [
    {
     "name": "stdout",
     "output_type": "stream",
     "text": [
      "Do you want to switch doors?(Y/N): 5654\n",
      "Please answer Y/N\n",
      "Do you want to switch doors?(Y/N): n\n"
     ]
    },
    {
     "data": {
      "text/plain": [
       "'N'"
      ]
     },
     "execution_count": 269,
     "metadata": {},
     "output_type": "execute_result"
    }
   ],
   "source": [
    "switch_stay()"
   ]
  },
  {
   "cell_type": "code",
   "execution_count": null,
   "id": "20da56f6",
   "metadata": {},
   "outputs": [],
   "source": []
  },
  {
   "cell_type": "markdown",
   "id": "38c913fa",
   "metadata": {},
   "source": [
    "## Exersice 4"
   ]
  },
  {
   "cell_type": "code",
   "execution_count": 271,
   "id": "f43f8931",
   "metadata": {},
   "outputs": [],
   "source": [
    "def game():\n",
    "    gamesetup = game_setup()\n",
    "    bigprize = gamesetup[2]\n",
    "    \n",
    "    newlist = np.delete(gamesetup[0],np.where(gamesetup[0]==bigprize))\n",
    "    \n",
    "    print(\"**Game Show: Car or Goat**\\nPick a door\\nA free door with goat will open\\nChoose to switch doors.. or not\\nGo!\")\n",
    "    chosen = choose_door()\n",
    "    print(\"Door chosen: %d \" % chosen)\n",
    "\n",
    "    freeopenreal = np.delete(newlist,np.where(newlist == chosen))\n",
    "    freeopen = np.random.choice(freeopenreal)\n",
    "    #print(bigprize) #delete.. for testing\n",
    "    #print(newlist) #delete.. for testing \n",
    "    #print(freeopenreal)\n",
    "    \n",
    "    #w prize\n",
    "    withprize = np.delete(gamesetup[0],np.where(gamesetup[0]==chosen))\n",
    "    \n",
    "    print(\"Free door is opened: %d \" % freeopen)\n",
    "    choice = switch_stay()\n",
    "    \n",
    "    final = np.delete(withprize,np.where(withprize==chosen))\n",
    "    \n",
    "    if choice == 'Y':\n",
    "        if (final).all() == bigprize:\n",
    "            print(\"Car\")\n",
    "        else:\n",
    "            print(\"Goat\")\n",
    "            \n",
    "    elif choice == \"N\":\n",
    "        if chosen == bigprize:\n",
    "            print(\"Car\")\n",
    "        else:\n",
    "            print(\"Goat\")"
   ]
  },
  {
   "cell_type": "code",
   "execution_count": 272,
   "id": "1a69514b",
   "metadata": {
    "scrolled": false
   },
   "outputs": [
    {
     "name": "stdout",
     "output_type": "stream",
     "text": [
      "**Game Show: Car or Goat**\n",
      "Pick a door\n",
      "A free door with goat will open\n",
      "Choose to switch doors.. or not\n",
      "Go!\n",
      "Choose a door (1,2, or 3): 3\n",
      "Door chosen: 3 \n",
      "Free door is opened: 1 \n",
      "Do you want to switch doors?(Y/N): n\n",
      "Goat\n"
     ]
    }
   ],
   "source": [
    "game()"
   ]
  },
  {
   "cell_type": "code",
   "execution_count": 273,
   "id": "8627cb22",
   "metadata": {},
   "outputs": [
    {
     "name": "stdout",
     "output_type": "stream",
     "text": [
      "**Game Show: Car or Goat**\n",
      "Pick a door\n",
      "A free door with goat will open\n",
      "Choose to switch doors.. or not\n",
      "Go!\n",
      "Choose a door (1,2, or 3): 5\n",
      "Please choose a door 1-3\n",
      "Choose a door (1,2, or 3): 2\n",
      "Door chosen: 2 \n",
      "Free door is opened: 3 \n",
      "Do you want to switch doors?(Y/N): y\n",
      "Car\n"
     ]
    }
   ],
   "source": [
    "game()"
   ]
  },
  {
   "cell_type": "code",
   "execution_count": 274,
   "id": "8b6fdb49",
   "metadata": {},
   "outputs": [
    {
     "name": "stdout",
     "output_type": "stream",
     "text": [
      "**Game Show: Car or Goat**\n",
      "Pick a door\n",
      "A free door with goat will open\n",
      "Choose to switch doors.. or not\n",
      "Go!\n",
      "Choose a door (1,2, or 3): 1\n",
      "Door chosen: 1 \n",
      "Free door is opened: 2 \n",
      "Do you want to switch doors?(Y/N): n\n",
      "Goat\n"
     ]
    }
   ],
   "source": [
    "game()"
   ]
  },
  {
   "cell_type": "markdown",
   "id": "9bb30629",
   "metadata": {},
   "source": [
    "## Exersice 5"
   ]
  },
  {
   "cell_type": "code",
   "execution_count": 7,
   "id": "7e006543",
   "metadata": {},
   "outputs": [],
   "source": [
    "def choose_door1():\n",
    "    lst = [1,2,3]\n",
    "    #choose = input(\"Choose a door (1,2, or 3): \")\n",
    "    choose = np.random.choice(lst)\n",
    "    if (choose == 1 ) or (choose == 2) or (choose == 3):\n",
    "        return choose \n"
   ]
  },
  {
   "cell_type": "code",
   "execution_count": 8,
   "id": "afb7b90d",
   "metadata": {},
   "outputs": [],
   "source": [
    "def switch_stay1(switch):\n",
    "    \n",
    "    if switch == True:\n",
    "        return switch\n",
    "        \n",
    "    elif switch == False:\n",
    "        return switch\n",
    "            \n",
    "    else:\n",
    "        print(\"Please answer Y/N\")\n",
    "\n",
    "        "
   ]
  },
  {
   "cell_type": "code",
   "execution_count": 123,
   "id": "0a66a588",
   "metadata": {},
   "outputs": [],
   "source": [
    "def game1(switch = True):\n",
    "    gamesetup = game_setup()\n",
    "    bigprize = gamesetup[2]\n",
    "    \n",
    "    newlist = np.delete(gamesetup[0],np.where(gamesetup[0]==bigprize))\n",
    "   \n",
    "    chosen = choose_door1()\n",
    "    #print(\"Door chosen: %d \" % chosen)\n",
    "    \n",
    "    freeopenreal = np.delete(newlist,np.where(newlist == chosen))\n",
    "    freeopen = np.random.choice(freeopenreal)\n",
    "    #print(bigprize) #delete.. for testing\n",
    "   # print(newlist) #delete.. for testing \n",
    "    \n",
    "    withprize = np.delete(gamesetup[0],np.where(gamesetup[0]==chosen))\n",
    "    \n",
    "    #print(\"Free door is opened: %d \" % freeopen)\n",
    "    \n",
    "    choice = switch_stay1(switch)\n",
    "    final = np.delete(withprize,np.where(withprize==chosen))\n",
    "    \n",
    "    ##probalbly gonna change them to return 0s and 1s\n",
    "    if choice == True:\n",
    "        if (final).all() == bigprize:\n",
    "            return 1\n",
    "        else:\n",
    "            return 0\n",
    "            \n",
    "    elif choice == False:\n",
    "        if chosen == bigprize:\n",
    "            return 1\n",
    "        else:\n",
    "            return 0\n",
    "            "
   ]
  },
  {
   "cell_type": "code",
   "execution_count": 278,
   "id": "8bb63213",
   "metadata": {},
   "outputs": [
    {
     "data": {
      "text/plain": [
       "1"
      ]
     },
     "execution_count": 278,
     "metadata": {},
     "output_type": "execute_result"
    }
   ],
   "source": [
    "game1(switch = True)"
   ]
  },
  {
   "cell_type": "markdown",
   "id": "6bd17a33",
   "metadata": {},
   "source": [
    "## Exercise 6"
   ]
  },
  {
   "cell_type": "code",
   "execution_count": 262,
   "id": "a3a9cdb9",
   "metadata": {},
   "outputs": [],
   "source": [
    "\n",
    "def trials(num_trials = 100):\n",
    "    k = 0\n",
    "    num_trials = 100\n",
    "    emptyarrayw = np.array(0)\n",
    "    emptyarrayl = np.array(1)\n",
    "    \n",
    "    for k in range(num_trials):\n",
    "        \n",
    "        result = game1(switch=True)\n",
    "        toadd = np.array([result])\n",
    "        \n",
    "        if result == 1:\n",
    "            \n",
    "            np.append(emptyarrayw,toadd)\n",
    "            k += 1\n",
    "            print(emptyarrayw)\n",
    "            \n",
    "        else:\n",
    "           \n",
    "            np.append(emptyarrayl,result)\n",
    "            k += 1\n",
    "            print(emptyarrayl)\n",
    "            \n",
    "    winners = emptyarrayw.size\n",
    "    loser = emptyarrayl.size\n",
    "    \n",
    "    plt.hist(winners,bins=15)\n",
    "    \n",
    "    plt.hist(loser,bins=15)\n",
    "    \n"
   ]
  },
  {
   "cell_type": "code",
   "execution_count": 263,
   "id": "a923fdd7",
   "metadata": {
    "scrolled": false
   },
   "outputs": [
    {
     "name": "stdout",
     "output_type": "stream",
     "text": [
      "1\n",
      "1\n",
      "1\n",
      "1\n",
      "1\n",
      "0\n",
      "0\n",
      "1\n",
      "1\n",
      "1\n",
      "0\n",
      "1\n",
      "0\n",
      "0\n",
      "1\n",
      "1\n",
      "1\n",
      "1\n",
      "1\n",
      "0\n",
      "1\n",
      "1\n",
      "0\n",
      "1\n",
      "0\n",
      "1\n",
      "0\n",
      "1\n",
      "1\n",
      "0\n",
      "1\n",
      "0\n",
      "1\n",
      "1\n",
      "1\n",
      "1\n",
      "0\n",
      "1\n",
      "0\n",
      "1\n",
      "1\n",
      "0\n",
      "1\n",
      "1\n",
      "0\n",
      "1\n",
      "0\n",
      "0\n",
      "0\n",
      "1\n",
      "0\n",
      "0\n",
      "1\n",
      "0\n",
      "1\n",
      "0\n",
      "1\n",
      "1\n",
      "1\n",
      "1\n",
      "1\n",
      "1\n",
      "0\n",
      "1\n",
      "1\n",
      "1\n",
      "0\n",
      "1\n",
      "1\n",
      "0\n",
      "1\n",
      "1\n",
      "1\n",
      "1\n",
      "0\n",
      "1\n",
      "1\n",
      "0\n",
      "1\n",
      "1\n",
      "0\n",
      "1\n",
      "1\n",
      "0\n",
      "1\n",
      "1\n",
      "1\n",
      "1\n",
      "1\n",
      "1\n",
      "1\n",
      "0\n",
      "0\n",
      "1\n",
      "0\n",
      "0\n",
      "0\n",
      "1\n",
      "1\n",
      "1\n"
     ]
    },
    {
     "data": {
      "image/png": "[encoded data removed]",
      "text/plain": [
       "<Figure size 432x288 with 1 Axes>"
      ]
     },
     "metadata": {
      "needs_background": "light"
     },
     "output_type": "display_data"
    }
   ],
   "source": [
    "trials(num_trials = 100)"
   ]
  },
  {
   "cell_type": "markdown",
   "id": "c0bb35c4",
   "metadata": {},
   "source": [
    "## Exercise 7 "
   ]
  },
  {
   "cell_type": "code",
   "execution_count": null,
   "id": "14fe6c43",
   "metadata": {},
   "outputs": [],
   "source": [
    "1. The probability of winning when you switch is greater than staying with your choice, although my graph did not come \n",
    "out, there are more ones, so that means more successes when you switch\n",
    "2. The player should switch doors "
   ]
  },
  {
   "cell_type": "code",
   "execution_count": null,
   "id": "742438aa",
   "metadata": {},
   "outputs": [],
   "source": []
  }
 ],
 "metadata": {
  "kernelspec": {
   "display_name": "Python 3 (ipykernel)",
   "language": "python",
   "name": "python3"
  },
  "language_info": {
   "codemirror_mode": {
    "name": "ipython",
    "version": 3
   },
   "file_extension": ".py",
   "mimetype": "text/x-python",
   "name": "python",
   "nbconvert_exporter": "python",
   "pygments_lexer": "ipython3",
   "version": "3.8.10"
  }
 },
 "nbformat": 4,
 "nbformat_minor": 5
}
