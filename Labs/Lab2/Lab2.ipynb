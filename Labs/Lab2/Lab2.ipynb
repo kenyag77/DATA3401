{
 "cells": [
  {
   "cell_type": "markdown",
   "id": "c5a079f9",
   "metadata": {},
   "source": [
    "# Problem 1:\n",
    "    \n",
    "Write a script that defines two strings: your first name and last name, and prints them in reverse order with a space between them."
   ]
  },
  {
   "cell_type": "code",
   "execution_count": 6,
   "id": "87b81c63",
   "metadata": {
    "scrolled": true
   },
   "outputs": [
    {
     "name": "stdout",
     "output_type": "stream",
     "text": [
      "Galvan Kenya\n"
     ]
    }
   ],
   "source": [
    "first=\"Kenya\"\n",
    "last=\"Galvan\"\n",
    "print(last,first)"
   ]
  },
  {
   "cell_type": "markdown",
   "id": "c2346e4f",
   "metadata": {},
   "source": [
    "# Problem 2:\n",
    "Write a print command that displays the following (replace all my information with yours)\n",
    "\n",
    "My name is Keaton Hamm\n",
    "\n",
    "I am a Math major\n",
    "\n",
    "This is my Python string"
   ]
  },
  {
   "cell_type": "code",
   "execution_count": 10,
   "id": "e34d3046",
   "metadata": {},
   "outputs": [
    {
     "name": "stdout",
     "output_type": "stream",
     "text": [
      "My name is Kenya Galvan\n",
      "I am a Data major\n",
      "This is my Python string\n"
     ]
    }
   ],
   "source": [
    "name =\"My name is Kenya Galvan\"\n",
    "major =\"I am a Data major\"\n",
    "string = \"This is my Python string\"\n",
    "print(\"%s\\n%s\\n%s\" %(name, major,string))"
   ]
  },
  {
   "cell_type": "markdown",
   "id": "01d31ed1",
   "metadata": {},
   "source": [
    "\n",
    "# Problem 3:\n",
    "Think about what the results would be for the following expressions, and then type them into the terminal to verify your answers. Briefly explain the results for each one."
   ]
  },
  {
   "cell_type": "code",
   "execution_count": 11,
   "id": "6f52db7f",
   "metadata": {
    "scrolled": true
   },
   "outputs": [
    {
     "ename": "SyntaxError",
     "evalue": "unexpected character after line continuation character (3033620531.py, line 1)",
     "output_type": "error",
     "traceback": [
      "\u001b[0;36m  File \u001b[0;32m\"/tmp/ipykernel_73/3033620531.py\"\u001b[0;36m, line \u001b[0;32m1\u001b[0m\n\u001b[0;31m    1\\2 #explanation here\u001b[0m\n\u001b[0m                         ^\u001b[0m\n\u001b[0;31mSyntaxError\u001b[0m\u001b[0;31m:\u001b[0m unexpected character after line continuation character\n"
     ]
    }
   ],
   "source": [
    "1\\2 #it is an error\n",
    "1/2 #one is divided by 2 = 1/2\n",
    "int(1/2) #returns integer 0\n",
    "int(1/3) #returns integer 0\n",
    "-5**2 # 5 squared, but it attached the negative because -(5**2)\n",
    "(-5) ** 2  #5 squared\n",
    "10-6/2  #10 subtracted by 3\n",
    "5*4/2*3 #4 divided by 2, then multiply 5,2,3 together\n",
    "5*4/2**2*3 #2 is squared, then 4 is divided by 4. Multiply 5 and 3"
   ]
  },
  {
   "cell_type": "markdown",
   "id": "6c3378f2",
   "metadata": {},
   "source": [
    "# Problem 4:\n",
    "Define the list x = ['this', 'is', 'a', 'test', 'string', 'list']\n",
    "\n",
    "Write code to check if the word 'this' is in the string\n",
    "Write code to sort the list by length and print the sorted list\n",
    "Write code that will print out each word in the list one by one"
   ]
  },
  {
   "cell_type": "code",
   "execution_count": 2,
   "id": "727379d9",
   "metadata": {},
   "outputs": [],
   "source": [
    "x = ['this', 'is', 'a', 'test', 'string', 'list']"
   ]
  },
  {
   "cell_type": "code",
   "execution_count": 3,
   "id": "f0c28197",
   "metadata": {},
   "outputs": [
    {
     "name": "stdout",
     "output_type": "stream",
     "text": [
      "Yes, it is in the string.\n"
     ]
    }
   ],
   "source": [
    "# Solution to part a\n",
    "\n",
    "if \"this\" in x:\n",
    "    print(\"Yes, it is in the string.\")\n",
    "else:\n",
    "    print(\"no\")\n",
    "        "
   ]
  },
  {
   "cell_type": "code",
   "execution_count": 5,
   "id": "c1ce954d",
   "metadata": {},
   "outputs": [
    {
     "name": "stdout",
     "output_type": "stream",
     "text": [
      "['a', 'is', 'this', 'test', 'list', 'string']\n"
     ]
    }
   ],
   "source": [
    "#Solution to part b\n",
    "\n",
    "x.sort(key=len)\n",
    "print(x)"
   ]
  },
  {
   "cell_type": "code",
   "execution_count": 8,
   "id": "e113ce67",
   "metadata": {},
   "outputs": [
    {
     "name": "stdout",
     "output_type": "stream",
     "text": [
      "a\n",
      "is\n",
      "this\n",
      "test\n",
      "list\n",
      "string\n"
     ]
    }
   ],
   "source": [
    "#Solution to part b \n",
    "\n",
    "i = 0\n",
    "while i < 6:\n",
    "    print(x[i])\n",
    "    i += 1"
   ]
  },
  {
   "cell_type": "markdown",
   "id": "ec58ff31",
   "metadata": {},
   "source": [
    "# Problem 5:\n",
    "Write code that will print your name 10 times but without you writing your name out 10 times."
   ]
  },
  {
   "cell_type": "code",
   "execution_count": 11,
   "id": "11483ad7",
   "metadata": {},
   "outputs": [
    {
     "name": "stdout",
     "output_type": "stream",
     "text": [
      "Kenya Galvan\n",
      "Kenya Galvan\n",
      "Kenya Galvan\n",
      "Kenya Galvan\n",
      "Kenya Galvan\n",
      "Kenya Galvan\n",
      "Kenya Galvan\n",
      "Kenya Galvan\n",
      "Kenya Galvan\n",
      "Kenya Galvan\n"
     ]
    }
   ],
   "source": [
    "name = \"Kenya Galvan\"\n",
    "j = 0\n",
    "\n",
    "while j < 10:\n",
    "    print(name)\n",
    "    j += 1\n",
    "    "
   ]
  },
  {
   "cell_type": "code",
   "execution_count": null,
   "id": "a710bee2",
   "metadata": {},
   "outputs": [],
   "source": []
  }
 ],
 "metadata": {
  "kernelspec": {
   "display_name": "Python 3 (ipykernel)",
   "language": "python",
   "name": "python3"
  },
  "language_info": {
   "codemirror_mode": {
    "name": "ipython",
    "version": 3
   },
   "file_extension": ".py",
   "mimetype": "text/x-python",
   "name": "python",
   "nbconvert_exporter": "python",
   "pygments_lexer": "ipython3",
   "version": "3.8.10"
  }
 },
 "nbformat": 4,
 "nbformat_minor": 5
}
