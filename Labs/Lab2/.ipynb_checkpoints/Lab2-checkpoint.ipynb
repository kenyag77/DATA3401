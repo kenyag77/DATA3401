{
 "cells": [
  {
   "cell_type": "code",
   "execution_count": 2,
   "id": "12fa649d",
   "metadata": {},
   "outputs": [
    {
     "name": "stdout",
     "output_type": "stream",
     "text": [
      "Galvan Kenya\n"
     ]
    }
   ],
   "source": [
    "#probelm 1\n",
    "first=\"Kenya\"\n",
    "last=\"Galvan\"\n",
    "print(last,first)"
   ]
  },
  {
   "cell_type": "code",
   "execution_count": 5,
   "id": "e6c63b8c",
   "metadata": {},
   "outputs": [
    {
     "name": "stdout",
     "output_type": "stream",
     "text": [
      "My name is Kenya Galvan \n",
      "I am a Data major\n"
     ]
    }
   ],
   "source": [
    "#problem 2\n",
    "name=\"My name is Kenya Galvan\"\n",
    "major=\"I am a Data major\"\n",
    "print(\"%s \\n%s\" %(name, major))"
   ]
  },
  {
   "cell_type": "code",
   "execution_count": null,
   "id": "cb5b0556",
   "metadata": {},
   "outputs": [],
   "source": []
  }
 ],
 "metadata": {
  "kernelspec": {
   "display_name": "Python 3 (ipykernel)",
   "language": "python",
   "name": "python3"
  },
  "language_info": {
   "codemirror_mode": {
    "name": "ipython",
    "version": 3
   },
   "file_extension": ".py",
   "mimetype": "text/x-python",
   "name": "python",
   "nbconvert_exporter": "python",
   "pygments_lexer": "ipython3",
   "version": "3.8.10"
  }
 },
 "nbformat": 4,
 "nbformat_minor": 5
}
