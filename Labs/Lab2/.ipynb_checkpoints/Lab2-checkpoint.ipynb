{
 "cells": [
  {
   "cell_type": "markdown",
   "id": "af8842ec",
   "metadata": {},
   "source": [
    "# Problem 1:\n",
    "    \n",
    "Write a script that defines two strings: your first name and last name, and prints them in reverse order with a space between them."
   ]
  },
  {
   "cell_type": "code",
   "execution_count": 6,
   "id": "16cdbd6a",
   "metadata": {
    "scrolled": true
   },
   "outputs": [
    {
     "name": "stdout",
     "output_type": "stream",
     "text": [
      "Galvan Kenya\n"
     ]
    }
   ],
   "source": [
    "first=\"Kenya\"\n",
    "last=\"Galvan\"\n",
    "print(last,first)"
   ]
  },
  {
   "cell_type": "markdown",
   "id": "205bede1",
   "metadata": {},
   "source": [
    "# Problem 2:\n",
    "Write a print command that displays the following (replace all my information with yours)\n",
    "\n",
    "My name is Keaton Hamm\n",
    "\n",
    "I am a Math major\n",
    "\n",
    "This is my Python string"
   ]
  },
  {
   "cell_type": "code",
   "execution_count": 10,
   "id": "a729ac0b",
   "metadata": {},
   "outputs": [
    {
     "name": "stdout",
     "output_type": "stream",
     "text": [
      "My name is Kenya Galvan\n",
      "I am a Data major\n",
      "This is my Python string\n"
     ]
    }
   ],
   "source": [
    "name =\"My name is Kenya Galvan\"\n",
    "major =\"I am a Data major\"\n",
    "string = \"This is my Python string\"\n",
    "print(\"%s\\n%s\\n%s\" %(name, major,string))"
   ]
  },
  {
   "cell_type": "markdown",
   "id": "433ae0d9",
   "metadata": {},
   "source": [
    "\n",
    "# Problem 3:\n",
    "Think about what the results would be for the following expressions, and then type them into the terminal to verify your answers. Briefly explain the results for each one."
   ]
  },
  {
   "cell_type": "code",
   "execution_count": 11,
   "id": "729176c4",
   "metadata": {},
   "outputs": [
    {
     "ename": "SyntaxError",
     "evalue": "unexpected character after line continuation character (3033620531.py, line 1)",
     "output_type": "error",
     "traceback": [
      "\u001b[0;36m  File \u001b[0;32m\"/tmp/ipykernel_73/3033620531.py\"\u001b[0;36m, line \u001b[0;32m1\u001b[0m\n\u001b[0;31m    1\\2 #explanation here\u001b[0m\n\u001b[0m                         ^\u001b[0m\n\u001b[0;31mSyntaxError\u001b[0m\u001b[0;31m:\u001b[0m unexpected character after line continuation character\n"
     ]
    }
   ],
   "source": [
    "1\\2 #it is an error\n",
    "1/2 #one is divided by 2 = 1/2\n",
    "int(1/2) #returns integer 0\n",
    "int(1/3) #returns integer 0\n",
    "-5**2 #explanation here\n",
    "(-5) ** 2  #explanation here\n",
    "10-6/2  #explanation here\n",
    "5*4/2*3 #explanation here\n",
    "5*4/2**2*3 #explanation here"
   ]
  },
  {
   "cell_type": "code",
   "execution_count": 21,
   "id": "7f569f5a",
   "metadata": {},
   "outputs": [
    {
     "data": {
      "text/plain": [
       "25"
      ]
     },
     "execution_count": 21,
     "metadata": {},
     "output_type": "execute_result"
    }
   ],
   "source": [
    "(-5)**2"
   ]
  },
  {
   "cell_type": "code",
   "execution_count": null,
   "id": "77125562",
   "metadata": {},
   "outputs": [],
   "source": []
  }
 ],
 "metadata": {
  "kernelspec": {
   "display_name": "Python 3 (ipykernel)",
   "language": "python",
   "name": "python3"
  },
  "language_info": {
   "codemirror_mode": {
    "name": "ipython",
    "version": 3
   },
   "file_extension": ".py",
   "mimetype": "text/x-python",
   "name": "python",
   "nbconvert_exporter": "python",
   "pygments_lexer": "ipython3",
   "version": "3.8.10"
  }
 },
 "nbformat": 4,
 "nbformat_minor": 5
}
