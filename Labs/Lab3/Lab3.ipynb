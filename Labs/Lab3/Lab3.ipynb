{
 "cells": [
  {
   "cell_type": "markdown",
   "id": "562b8b18",
   "metadata": {},
   "source": [
    "## Problem 1:\n",
    "Write a function that computes the first n Fibonacci numbers for a given integer n. The first two Fibonacci numbers are 1, and the subsequent numbers are obtained by adding the previous two (so the first 6 Fibonacci numbers are 1, 1, 2, 3, 5, 8). Test your function with n = 12."
   ]
  },
  {
   "cell_type": "code",
   "execution_count": 15,
   "id": "e9874ff7",
   "metadata": {},
   "outputs": [],
   "source": [
    "def fibonacci(input):\n",
    "    i = 0\n",
    "    first = 1\n",
    "    second  = 1\n",
    "    \n",
    "    while i < input:\n",
    "        print(first)\n",
    "        temp = first + second\n",
    "        first = second\n",
    "        second = temp\n",
    "        \n",
    "        i += 1"
   ]
  },
  {
   "cell_type": "code",
   "execution_count": 17,
   "id": "f8b67a1a",
   "metadata": {
    "scrolled": true
   },
   "outputs": [
    {
     "name": "stdout",
     "output_type": "stream",
     "text": [
      "1\n",
      "1\n",
      "2\n",
      "3\n",
      "5\n",
      "8\n",
      "13\n",
      "21\n",
      "34\n",
      "55\n",
      "89\n",
      "144\n"
     ]
    }
   ],
   "source": [
    "fibonacci(12)"
   ]
  },
  {
   "cell_type": "markdown",
   "id": "a91202b5",
   "metadata": {},
   "source": [
    "## Problem 2:\n",
    "Write two functions even(x) and odd(x) that test if an integer x is even (or odd), and returns True if x is even (or odd) and False otherwise. Test both of your functions for correctness in the second and third cells below"
   ]
  },
  {
   "cell_type": "code",
   "execution_count": 29,
   "id": "c60243ab",
   "metadata": {},
   "outputs": [],
   "source": [
    "def even(x):\n",
    "    if x%2 == 0:\n",
    "        return True\n",
    "    else:\n",
    "        return False\n",
    "    \n",
    "def odd(x):\n",
    "    if x%2 != 0:\n",
    "        return True\n",
    "    else:\n",
    "        return False"
   ]
  },
  {
   "cell_type": "code",
   "execution_count": 37,
   "id": "d3f8a732",
   "metadata": {},
   "outputs": [
    {
     "data": {
      "text/plain": [
       "True"
      ]
     },
     "execution_count": 37,
     "metadata": {},
     "output_type": "execute_result"
    }
   ],
   "source": [
    "even(8)"
   ]
  },
  {
   "cell_type": "code",
   "execution_count": 38,
   "id": "2879d071",
   "metadata": {},
   "outputs": [
    {
     "data": {
      "text/plain": [
       "True"
      ]
     },
     "execution_count": 38,
     "metadata": {},
     "output_type": "execute_result"
    }
   ],
   "source": [
    "even(6)"
   ]
  },
  {
   "cell_type": "code",
   "execution_count": 39,
   "id": "a47c8024",
   "metadata": {},
   "outputs": [
    {
     "data": {
      "text/plain": [
       "True"
      ]
     },
     "execution_count": 39,
     "metadata": {},
     "output_type": "execute_result"
    }
   ],
   "source": [
    "even(0)"
   ]
  },
  {
   "cell_type": "code",
   "execution_count": 40,
   "id": "8df8dc1b",
   "metadata": {},
   "outputs": [
    {
     "data": {
      "text/plain": [
       "False"
      ]
     },
     "execution_count": 40,
     "metadata": {},
     "output_type": "execute_result"
    }
   ],
   "source": [
    "even(1)"
   ]
  },
  {
   "cell_type": "code",
   "execution_count": 41,
   "id": "9f1e8c5d",
   "metadata": {},
   "outputs": [
    {
     "data": {
      "text/plain": [
       "False"
      ]
     },
     "execution_count": 41,
     "metadata": {},
     "output_type": "execute_result"
    }
   ],
   "source": [
    "odd(0)"
   ]
  },
  {
   "cell_type": "code",
   "execution_count": 42,
   "id": "fedf5f4f",
   "metadata": {},
   "outputs": [
    {
     "data": {
      "text/plain": [
       "True"
      ]
     },
     "execution_count": 42,
     "metadata": {},
     "output_type": "execute_result"
    }
   ],
   "source": [
    "odd(1)"
   ]
  },
  {
   "cell_type": "code",
   "execution_count": 43,
   "id": "3feb05a7",
   "metadata": {},
   "outputs": [
    {
     "data": {
      "text/plain": [
       "True"
      ]
     },
     "execution_count": 43,
     "metadata": {},
     "output_type": "execute_result"
    }
   ],
   "source": [
    "odd(13)"
   ]
  },
  {
   "cell_type": "code",
   "execution_count": 44,
   "id": "ce9f6326",
   "metadata": {},
   "outputs": [
    {
     "data": {
      "text/plain": [
       "False"
      ]
     },
     "execution_count": 44,
     "metadata": {},
     "output_type": "execute_result"
    }
   ],
   "source": [
    "odd(6)"
   ]
  },
  {
   "cell_type": "markdown",
   "id": "b9cf14f2",
   "metadata": {},
   "source": [
    "## Problem 3:\n",
    "Write a function that takes in a list of numbers, and outputs the maximum number in the list."
   ]
  },
  {
   "cell_type": "code",
   "execution_count": 98,
   "id": "c86ebf8a",
   "metadata": {},
   "outputs": [],
   "source": [
    "def maxnumber(number):\n",
    "    numblist = []\n",
    "    n = int(input(\"List size: \"))\n",
    "    i = 0\n",
    "    for i in range(n): \n",
    "            a = int(input(\"Enter numbers! : \"))\n",
    "            numblist.append(a)\n",
    "            \n",
    "    print(numblist)\n",
    "    print(\"Maximum number:{}\".format(max(numblist)))"
   ]
  },
  {
   "cell_type": "code",
   "execution_count": 99,
   "id": "395e5717",
   "metadata": {
    "scrolled": true
   },
   "outputs": [
    {
     "name": "stdout",
     "output_type": "stream",
     "text": [
      "List size: 5\n",
      "Enter numbers! : 0\n",
      "Enter numbers! : 685\n",
      "Enter numbers! : 5\n",
      "Enter numbers! : 8654\n",
      "Enter numbers! : 232\n",
      "[0, 685, 5, 8654, 232]\n",
      "Maximum number:8654\n"
     ]
    }
   ],
   "source": [
    "maxnumber(0)"
   ]
  },
  {
   "cell_type": "code",
   "execution_count": null,
   "id": "a9402d6b",
   "metadata": {},
   "outputs": [],
   "source": []
  },
  {
   "cell_type": "markdown",
   "id": "13233b58",
   "metadata": {},
   "source": [
    "## Problem 4:\n",
    "Write a function that takes a list of numbers as input and returns a list of the subset of elements that are less that 10. Test your solution."
   ]
  },
  {
   "cell_type": "code",
   "execution_count": 31,
   "id": "25f9f536",
   "metadata": {},
   "outputs": [],
   "source": [
    "def under10(listsize):\n",
    "    numblist = []\n",
    "    less10 = []\n",
    "    i = 0\n",
    "    \n",
    "    for i in range(listsize): \n",
    "            a = int(input(\"Enter numbers! : \"))\n",
    "            numblist.append(a)\n",
    "            \n",
    "    for i in numblist:\n",
    "        if i < 10:\n",
    "            less10.append(i)\n",
    "    print(less10)"
   ]
  },
  {
   "cell_type": "code",
   "execution_count": 33,
   "id": "0bceff9e",
   "metadata": {},
   "outputs": [
    {
     "name": "stdout",
     "output_type": "stream",
     "text": [
      "Enter numbers! : -6\n",
      "Enter numbers! : 31\n",
      "Enter numbers! : 2\n",
      "Enter numbers! : 5\n",
      "Enter numbers! : 84\n",
      "[-6, 2, 5]\n"
     ]
    }
   ],
   "source": [
    "under10(5)"
   ]
  },
  {
   "cell_type": "markdown",
   "id": "3c8601b0",
   "metadata": {},
   "source": [
    "## Problem 5:\n",
    "Write a function that takes a number x_max as input and returns a function that performs the same task as exercise 2, but for x_max instead of 10."
   ]
  },
  {
   "cell_type": "code",
   "execution_count": 27,
   "id": "a0fab6fb",
   "metadata": {},
   "outputs": [],
   "source": [
    "def maxnum(x_max):\n",
    "    b = int(x_max)\n",
    "    n = int(input(\"List size: \"))\n",
    "    numblist = []\n",
    "    less10 = []\n",
    "    \n",
    "    for i in range(n): \n",
    "            a = int(input(\"Enter numbers! : \"))\n",
    "            numblist.append(a)\n",
    "            \n",
    "    for i in numblist:\n",
    "        if i < x_max:\n",
    "            less10.append(i)\n",
    "    print(less10)"
   ]
  },
  {
   "cell_type": "code",
   "execution_count": 28,
   "id": "7cea0218",
   "metadata": {},
   "outputs": [
    {
     "name": "stdout",
     "output_type": "stream",
     "text": [
      "List size: 5\n",
      "Enter numbers! : 654\n",
      "Enter numbers! : 20\n",
      "Enter numbers! : 5\n",
      "Enter numbers! : 545\n",
      "Enter numbers! : 35\n",
      "[20, 5, 35]\n"
     ]
    }
   ],
   "source": [
    "maxnum(50)"
   ]
  },
  {
   "cell_type": "markdown",
   "id": "6b9e5ee9",
   "metadata": {},
   "source": [
    "## Problem 6:\n",
    "Write a function that takes an integer and returns all its divisors (for example, the divisors of 18 are 1, 2, 3, 6, 9, and 18)"
   ]
  },
  {
   "cell_type": "code",
   "execution_count": 36,
   "id": "064749bf",
   "metadata": {},
   "outputs": [],
   "source": [
    "def divisorsof(number):\n",
    "    result = []\n",
    "    for i in range(1, number + 1):\n",
    "        if number % i == 0:\n",
    "            result.append(i)\n",
    "    print(result)"
   ]
  },
  {
   "cell_type": "code",
   "execution_count": 59,
   "id": "fe4e6a36",
   "metadata": {},
   "outputs": [
    {
     "name": "stdout",
     "output_type": "stream",
     "text": [
      "[1, 2, 3, 4, 6, 12]\n",
      "[1, 3]\n",
      "[1, 2, 4]\n",
      "[1, 2, 3, 6, 9, 18]\n",
      "[1, 2, 3, 4, 5, 6, 10, 12, 15, 20, 30, 60]\n"
     ]
    }
   ],
   "source": [
    "divisorsof(12)\n",
    "divisorsof(3)\n",
    "divisorsof(4)\n",
    "divisorsof(18)\n",
    "divisorsof(60)"
   ]
  },
  {
   "cell_type": "code",
   "execution_count": null,
   "id": "4529d17a",
   "metadata": {},
   "outputs": [],
   "source": []
  },
  {
   "cell_type": "markdown",
   "id": "cb34c327",
   "metadata": {},
   "source": [
    "## Problem 7:\n",
    "Write a function that reads takes a string and returns True if the string is a palindrome. (A palindrome is a string that reads the same forwards and backwards.)"
   ]
  },
  {
   "cell_type": "code",
   "execution_count": 18,
   "id": "6ac1311e",
   "metadata": {},
   "outputs": [],
   "source": [
    "def palindromes(string):\n",
    "    reverse = reversed(string)\n",
    "    \n",
    "    if list(string) == list(reverse):\n",
    "        return True\n",
    "    else :\n",
    "        return False\n"
   ]
  },
  {
   "cell_type": "code",
   "execution_count": 24,
   "id": "a42640fe",
   "metadata": {},
   "outputs": [
    {
     "name": "stdout",
     "output_type": "stream",
     "text": [
      "False\n",
      "True\n",
      "True\n"
     ]
    }
   ],
   "source": [
    "print(palindromes(\"skippy\"))\n",
    "print(palindromes(\"lol\"))\n",
    "print(palindromes(\"d\"))"
   ]
  },
  {
   "cell_type": "markdown",
   "id": "a44c9300",
   "metadata": {},
   "source": [
    "## Problem 8:\n",
    "Write a function that takes an integer input between 1 and 10. If the input is 4, 5, or 6, then display a message 'Congratulations, you win the prize!'. If the input is less than 4 or greater than 6, then display a mesage 'Sorry, try again.' If the input is less than 1, greater than 10, or not an integer, display a message 'Invalid input, please input an integer between 1 and 10'."
   ]
  },
  {
   "cell_type": "code",
   "execution_count": 45,
   "id": "45bd57a6",
   "metadata": {},
   "outputs": [],
   "source": [
    "def prize(n):\n",
    "    if n in range(0,10):\n",
    "        \n",
    "        if n == 4 or n == 5 or n == 6:\n",
    "            print (\"Yay, you win the prize!\")\n",
    "        elif n < 4 or n > 6:\n",
    "            print(\"Sorry, try again\")\n",
    "            \n",
    "            \n",
    "    elif n not in range(0,10):\n",
    "        print(\"Invalid input, please input an integer between 1 and 10\")\n",
    "        "
   ]
  },
  {
   "cell_type": "code",
   "execution_count": 53,
   "id": "d67925e8",
   "metadata": {},
   "outputs": [
    {
     "name": "stdout",
     "output_type": "stream",
     "text": [
      "Invalid input, please input an integer between 1 and 10\n"
     ]
    }
   ],
   "source": [
    "prize(-8)"
   ]
  },
  {
   "cell_type": "code",
   "execution_count": 56,
   "id": "74540caa",
   "metadata": {},
   "outputs": [
    {
     "name": "stdout",
     "output_type": "stream",
     "text": [
      "Yay, you win the prize!\n",
      "None\n",
      "Yay, you win the prize!\n",
      "None\n",
      "Yay, you win the prize!\n",
      "None\n"
     ]
    }
   ],
   "source": [
    "print(prize(5))\n",
    "print(prize(6))\n",
    "print(prize(4))"
   ]
  },
  {
   "cell_type": "code",
   "execution_count": 57,
   "id": "be856fef",
   "metadata": {},
   "outputs": [
    {
     "name": "stdout",
     "output_type": "stream",
     "text": [
      "Sorry, try again\n"
     ]
    }
   ],
   "source": [
    "prize(8)"
   ]
  },
  {
   "cell_type": "code",
   "execution_count": 58,
   "id": "3b9838f6",
   "metadata": {},
   "outputs": [
    {
     "name": "stdout",
     "output_type": "stream",
     "text": [
      "Sorry, try again\n"
     ]
    }
   ],
   "source": [
    "prize(2)"
   ]
  },
  {
   "cell_type": "code",
   "execution_count": 59,
   "id": "bf203bec",
   "metadata": {},
   "outputs": [
    {
     "name": "stdout",
     "output_type": "stream",
     "text": [
      "Invalid input, please input an integer between 1 and 10\n"
     ]
    }
   ],
   "source": [
    "prize(85)"
   ]
  },
  {
   "cell_type": "markdown",
   "id": "ac747557",
   "metadata": {},
   "source": [
    "## Problem 9:\n",
    "Write a Rock-Paper-Scissors game function, that takes 2 strings, the inputs of player 1 and player 2, and output 1 or 2 corresponding to which player wins, or 0 if draw.\n",
    "\n",
    "Implement a Rock-Paper-Scissors game by soliciting input from 2 players, testing with this function, and repeating if there is a draw.\n",
    "\n",
    "Remember the rules:\n",
    "\n",
    "Rock beats scissors\n",
    "Scissors beats paper\n",
    "Paper beats rock"
   ]
  },
  {
   "cell_type": "code",
   "execution_count": 40,
   "id": "a2d6966b",
   "metadata": {},
   "outputs": [],
   "source": [
    "def play(word):\n",
    "    i = 0\n",
    "\n",
    "    while i<1:\n",
    "        \n",
    "        p1 = str(input(\"Player 1's turn:\"))\n",
    "        p2 = str(input(\"Player 2's turn:\"))\n",
    "        \n",
    "        if (p1) == (p2):\n",
    "            print(\"0 - Draw, try again.\")\n",
    "            \n",
    "        elif (p1) == \"rock\":\n",
    "            if (p2) == \"paper\":\n",
    "                print(\"Player 2 wins\")\n",
    "                i += 1\n",
    "            else:\n",
    "                print(\"Player 1 wins\")\n",
    "                i += 1\n",
    "                \n",
    "        elif (p1) == \"scissors\":\n",
    "            if (p2) == \"paper\":\n",
    "                print(\"Player 1 wins\")\n",
    "                i += 1\n",
    "            else:\n",
    "                print(\"Player 2 wins\")\n",
    "                i +=1\n",
    "                \n",
    "        elif (p1) == \"paper\":\n",
    "            if (p2) == \"rock\":\n",
    "                print(\"Player 1 wins\")\n",
    "                i += 1\n",
    "            else:\n",
    "                print(\"Player 2 wins\")\n",
    "                i += 1\n",
    "        else:\n",
    "            print(\"Only input rock,paper,scissors.\")"
   ]
  },
  {
   "cell_type": "code",
   "execution_count": 41,
   "id": "5c94969c",
   "metadata": {},
   "outputs": [
    {
     "name": "stdout",
     "output_type": "stream",
     "text": [
      "Player 1's turn:rock\n",
      "Player 2's turn:scissors\n",
      "Player 1 wins\n"
     ]
    }
   ],
   "source": [
    "play(\"play\")"
   ]
  },
  {
   "cell_type": "code",
   "execution_count": 42,
   "id": "95130d8f",
   "metadata": {},
   "outputs": [
    {
     "name": "stdout",
     "output_type": "stream",
     "text": [
      "Player 1's turn:paper\n",
      "Player 2's turn:scissors\n",
      "Player 2 wins\n"
     ]
    }
   ],
   "source": [
    "play(3)"
   ]
  },
  {
   "cell_type": "code",
   "execution_count": 43,
   "id": "1eb365b2",
   "metadata": {
    "scrolled": true
   },
   "outputs": [
    {
     "name": "stdout",
     "output_type": "stream",
     "text": [
      "Player 1's turn:scissors\n",
      "Player 2's turn:rock\n",
      "Player 2 wins\n"
     ]
    }
   ],
   "source": [
    "play(4)"
   ]
  },
  {
   "cell_type": "code",
   "execution_count": 44,
   "id": "4c09d942",
   "metadata": {},
   "outputs": [
    {
     "name": "stdout",
     "output_type": "stream",
     "text": [
      "Player 1's turn:rock\n",
      "Player 2's turn:rock\n",
      "0 - Draw, try again.\n",
      "Player 1's turn:scissors\n",
      "Player 2's turn:scissors\n",
      "0 - Draw, try again.\n",
      "Player 1's turn:paper\n",
      "Player 2's turn:paper\n",
      "0 - Draw, try again.\n",
      "Player 1's turn:rock\n",
      "Player 2's turn:paper\n",
      "Player 2 wins\n"
     ]
    }
   ],
   "source": [
    "play(5)"
   ]
  },
  {
   "cell_type": "code",
   "execution_count": null,
   "id": "0038c759",
   "metadata": {},
   "outputs": [],
   "source": []
  }
 ],
 "metadata": {
  "kernelspec": {
   "display_name": "Python 3 (ipykernel)",
   "language": "python",
   "name": "python3"
  },
  "language_info": {
   "codemirror_mode": {
    "name": "ipython",
    "version": 3
   },
   "file_extension": ".py",
   "mimetype": "text/x-python",
   "name": "python",
   "nbconvert_exporter": "python",
   "pygments_lexer": "ipython3",
   "version": "3.8.10"
  }
 },
 "nbformat": 4,
 "nbformat_minor": 5
}
