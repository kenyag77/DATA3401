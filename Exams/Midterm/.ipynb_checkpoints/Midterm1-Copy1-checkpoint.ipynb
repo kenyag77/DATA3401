{
 "cells": [
  {
   "cell_type": "markdown",
   "id": "fa5eb400",
   "metadata": {},
   "source": [
    "## Exercise 1\n",
    "1. Write a script or function that asks the user to input 3 numbers, and output the product of the 3 numbers.\n",
    "2. Your code should display an error message if one of the inputs is not a number.\n",
    "3. Test your code on the following inputs:\n",
    "\n",
    "    (5, -10, 20.0)\n",
    "    \n",
    "    (1, \"blah\", 5)"
   ]
  },
  {
   "cell_type": "code",
   "execution_count": 355,
   "id": "128bafa8",
   "metadata": {},
   "outputs": [],
   "source": [
    "def product(num1,num2,num3):\n",
    "    \n",
    "    if isinstance(num1,(float,int)) and isinstance(num2,(float,int)) and isinstance(num3,(float,int)):\n",
    "        return num1*num2*num3\n",
    "    else:\n",
    "        print(\"Inputs must be numbers.\")"
   ]
  },
  {
   "cell_type": "code",
   "execution_count": 356,
   "id": "61e01555",
   "metadata": {},
   "outputs": [
    {
     "data": {
      "text/plain": [
       "-1000.0"
      ]
     },
     "execution_count": 356,
     "metadata": {},
     "output_type": "execute_result"
    }
   ],
   "source": [
    "product(5, -10, 20.0)"
   ]
  },
  {
   "cell_type": "code",
   "execution_count": 357,
   "id": "6cd30cf8",
   "metadata": {},
   "outputs": [
    {
     "name": "stdout",
     "output_type": "stream",
     "text": [
      "Inputs must be numbers.\n"
     ]
    }
   ],
   "source": [
    "product(1, \"blah\", 5)"
   ]
  },
  {
   "cell_type": "code",
   "execution_count": null,
   "id": "a592f5d9",
   "metadata": {},
   "outputs": [],
   "source": []
  },
  {
   "cell_type": "markdown",
   "id": "f5f31ea2",
   "metadata": {},
   "source": [
    "## Exercise 2\n",
    "Suppose the first element of a sequence is $a_0 = 1$, the second element is $a_1 = 3$, and for every i>1, the $i$--th element of the sequence is defined by the recursive relation $a_i = \\frac{(a_{i-1}-a_{i-2})^2}{3}$. (So $a_2 = 4/3$)\n",
    "\n",
    "1. Write a function which outputs the $n$--th element of this sequence for a given integer $n$\n",
    "1. Test your function for $n = 1, 5, 10, 15,$ and $20$"
   ]
  },
  {
   "cell_type": "code",
   "execution_count": 555,
   "id": "a68c93fc",
   "metadata": {},
   "outputs": [],
   "source": [
    "def sequence2(number):\n",
    "    a = [1,3,0]\n",
    "    i = 0\n",
    "    j = 0\n",
    "    if number == 0 or number == 1:\n",
    "        \n",
    "        return a[number]\n",
    "    \n",
    "    else:\n",
    "        \n",
    "        while j < number:\n",
    "        \n",
    "            temp = a[i]\n",
    "            temp2 = a[i+1]\n",
    "            result = ((temp - temp2)**2)/3\n",
    "        \n",
    "            temp3 = i+2\n",
    "        \n",
    "            a[temp3] = result\n",
    "        \n",
    "            a.append(a[temp3])\n",
    "            \n",
    "        \n",
    "            i += 1\n",
    "            j += 1\n",
    "            \n",
    "    return(a[temp3])     "
   ]
  },
  {
   "cell_type": "code",
   "execution_count": 563,
   "id": "9df1dd3b",
   "metadata": {},
   "outputs": [
    {
     "name": "stdout",
     "output_type": "stream",
     "text": [
      "0.925925925925926\n",
      "0.0553269318701417\n"
     ]
    }
   ],
   "source": [
    "#TRIAL\n",
    "print(sequence2(2))\n",
    "print(sequence2(3))\n"
   ]
  },
  {
   "cell_type": "code",
   "execution_count": 564,
   "id": "4b7cbd41",
   "metadata": {},
   "outputs": [
    {
     "name": "stdout",
     "output_type": "stream",
     "text": [
      "3\n",
      "0.01297847362449752\n",
      "4.964408292118622e-09\n",
      "9.773822811440573e-73\n",
      "2.9991684445577574e-281\n"
     ]
    }
   ],
   "source": [
    "# Test your function for 𝑛= 1, 5, 10, 15, and  20\n",
    "print(sequence2(1))\n",
    "print(sequence2(5))\n",
    "print(sequence2(10))\n",
    "print(sequence2(15))\n",
    "print(sequence2(20))"
   ]
  },
  {
   "cell_type": "markdown",
   "id": "679c5289",
   "metadata": {},
   "source": [
    "\n",
    "## Exercise 3\n",
    "1. Write a function which takes a list as input and outputs the largest integer entry. If there is none, return None.\n",
    "2. Test your function on the following lists\n",
    "\n",
    "[ 1, 9, 10.2, 6, -2] should output 9\n",
    "\n",
    "[1.2, 3/4, \"Hello World\"] should output none\n"
   ]
  },
  {
   "cell_type": "code",
   "execution_count": 287,
   "id": "e11cc7d0",
   "metadata": {},
   "outputs": [],
   "source": [
    "a = [1, 9, 10.2, 6, -2]\n",
    "b = [1.2, 3/4, \"Hello World\"] "
   ]
  },
  {
   "cell_type": "code",
   "execution_count": 350,
   "id": "07e9b20a",
   "metadata": {},
   "outputs": [],
   "source": [
    "def maxnumber1(lst):\n",
    "    i = lst[0]\n",
    "    j = 0\n",
    "    largest = lst[0]            \n",
    "    if isinstance(i, int):\n",
    "        while j in range(len(lst)):\n",
    "            for i in lst:\n",
    "                if isinstance(i, int):\n",
    "                    if i > largest:\n",
    "                        largest = i\n",
    "                    i +=1\n",
    "      \n",
    "            j += 1\n",
    "        print(largest)\n",
    "    else:\n",
    "        print(None)"
   ]
  },
  {
   "cell_type": "code",
   "execution_count": 351,
   "id": "9714c53d",
   "metadata": {},
   "outputs": [
    {
     "name": "stdout",
     "output_type": "stream",
     "text": [
      "9\n"
     ]
    }
   ],
   "source": [
    "maxnumber1(a)"
   ]
  },
  {
   "cell_type": "code",
   "execution_count": 352,
   "id": "b932a58d",
   "metadata": {},
   "outputs": [
    {
     "name": "stdout",
     "output_type": "stream",
     "text": [
      "None\n"
     ]
    }
   ],
   "source": [
    "maxnumber1(b)"
   ]
  },
  {
   "cell_type": "markdown",
   "id": "917d1dae",
   "metadata": {},
   "source": [
    "\n",
    "## Exercise 4\n",
    "1. Create a program that will make a deck of cards. Each card should be represented as a tuple of the form (value, suit), where value is a number between 2 and 10, Jack, Queen, King, or Ace, and suit is one of Spades, Clubs, Diamonds, or Hearts.\n",
    "2. Create a function that takes in a hand (list) of 5 cards, and determines whether or not the hand is a \"flush\", meaning that all 5 cards are of the same suit.\n",
    "3. Test your function by inputting the following hands:\n",
    "\n",
    "Ace of Hearts, King of Hearts, Queen of Hearts, Jack of Hearts, 2 of Hearts\n",
    "\n",
    "2 of Clubs, 3 of Spades, 4 of Clubs, 10 of Diamonds, Jack of Spades"
   ]
  },
  {
   "cell_type": "code",
   "execution_count": 634,
   "id": "8a1dc03c",
   "metadata": {},
   "outputs": [],
   "source": [
    "def deck1():\n",
    "    value = [2,3,4,5,6,7,8,9,10,\"Ace\",\"Jack\",'Queen', \"King\"]\n",
    "    suit = [\"Spades\", 'Clubs',\"Diamonds\", \"Hearts\"]\n",
    "    i = 0 #for value\n",
    "    j = 0 #for suit\n",
    "    k = 0\n",
    "    \n",
    "    while k < 1:\n",
    "        \n",
    "        for j in range(len(suit)):\n",
    "            i = 0\n",
    "            \n",
    "            while i < 13:\n",
    "                \n",
    "                together = value[i], suit[j]\n",
    "                print(together)\n",
    "\n",
    "                i += 1\n",
    "                \n",
    "            j += 1\n",
    "            \n",
    "        k +=1"
   ]
  },
  {
   "cell_type": "code",
   "execution_count": 635,
   "id": "5b5c7830",
   "metadata": {},
   "outputs": [
    {
     "name": "stdout",
     "output_type": "stream",
     "text": [
      "(2, 'Spades')\n",
      "(3, 'Spades')\n",
      "(4, 'Spades')\n",
      "(5, 'Spades')\n",
      "(6, 'Spades')\n",
      "(7, 'Spades')\n",
      "(8, 'Spades')\n",
      "(9, 'Spades')\n",
      "(10, 'Spades')\n",
      "('Ace', 'Spades')\n",
      "('Jack', 'Spades')\n",
      "('Queen', 'Spades')\n",
      "('King', 'Spades')\n",
      "(2, 'Clubs')\n",
      "(3, 'Clubs')\n",
      "(4, 'Clubs')\n",
      "(5, 'Clubs')\n",
      "(6, 'Clubs')\n",
      "(7, 'Clubs')\n",
      "(8, 'Clubs')\n",
      "(9, 'Clubs')\n",
      "(10, 'Clubs')\n",
      "('Ace', 'Clubs')\n",
      "('Jack', 'Clubs')\n",
      "('Queen', 'Clubs')\n",
      "('King', 'Clubs')\n",
      "(2, 'Diamonds')\n",
      "(3, 'Diamonds')\n",
      "(4, 'Diamonds')\n",
      "(5, 'Diamonds')\n",
      "(6, 'Diamonds')\n",
      "(7, 'Diamonds')\n",
      "(8, 'Diamonds')\n",
      "(9, 'Diamonds')\n",
      "(10, 'Diamonds')\n",
      "('Ace', 'Diamonds')\n",
      "('Jack', 'Diamonds')\n",
      "('Queen', 'Diamonds')\n",
      "('King', 'Diamonds')\n",
      "(2, 'Hearts')\n",
      "(3, 'Hearts')\n",
      "(4, 'Hearts')\n",
      "(5, 'Hearts')\n",
      "(6, 'Hearts')\n",
      "(7, 'Hearts')\n",
      "(8, 'Hearts')\n",
      "(9, 'Hearts')\n",
      "(10, 'Hearts')\n",
      "('Ace', 'Hearts')\n",
      "('Jack', 'Hearts')\n",
      "('Queen', 'Hearts')\n",
      "('King', 'Hearts')\n"
     ]
    }
   ],
   "source": [
    "deck1()"
   ]
  },
  {
   "cell_type": "code",
   "execution_count": 715,
   "id": "8b596785",
   "metadata": {},
   "outputs": [],
   "source": [
    "a = [\"Ace of Hearts\", \"King of Hearts\" , \"Queen of Hearts\", \"Jack of Hearts\", \"2 of Hearts\"]\n",
    "b = [\"2 of Clubs\", \"3 of Spades\", \"4 of Clubs\", \"10 of Diamonds\", \"Jack of Spades\"]"
   ]
  },
  {
   "cell_type": "code",
   "execution_count": 716,
   "id": "7c1922fe",
   "metadata": {},
   "outputs": [],
   "source": [
    "def flush(lst):\n",
    "    card1 = str(lst[0])\n",
    "    card2 = str(lst[1])\n",
    "    card3 = str(lst[2])\n",
    "    card4 = str(lst[3])\n",
    "    card5 = str(lst[4])\n",
    "    \n",
    "    if card1[-4:] == card2[-4:] ==card3[-4:] ==card4[-4:] == card5[-4:]:\n",
    "        print(\"Flush true\")\n",
    "    else:\n",
    "        print(\"Not flush\")"
   ]
  },
  {
   "cell_type": "code",
   "execution_count": 717,
   "id": "b22b9cad",
   "metadata": {},
   "outputs": [
    {
     "name": "stdout",
     "output_type": "stream",
     "text": [
      "Flush true\n"
     ]
    }
   ],
   "source": [
    "flush(a)"
   ]
  },
  {
   "cell_type": "code",
   "execution_count": 719,
   "id": "4dbe2131",
   "metadata": {},
   "outputs": [
    {
     "name": "stdout",
     "output_type": "stream",
     "text": [
      "Not flush\n"
     ]
    }
   ],
   "source": [
    "flush(b)"
   ]
  },
  {
   "cell_type": "markdown",
   "id": "447d1595",
   "metadata": {},
   "source": [
    "\n",
    "## Exercise 5\n",
    "1. Write a function or script that takes in a string and whose output is the input string minus all of a specified character. For example, an input of \"Hello World\" where \"l\" is removed should result in \"Heo Word\"\n",
    "2. Test your function by specifying \"i\" to be removed from \"Supercalifragilisticexpialidocious\"\n",
    "3. Test your function by specifying \"data\" to be removed from \"data 3401 introduction to python for data science\""
   ]
  },
  {
   "cell_type": "code",
   "execution_count": 74,
   "id": "85fe4fa5",
   "metadata": {},
   "outputs": [],
   "source": [
    "def delete(string):\n",
    "    deleted = input(\"What do you want deleted? : \")\n",
    "    new = string.replace( deleted , \"\")\n",
    "    return new"
   ]
  },
  {
   "cell_type": "code",
   "execution_count": 75,
   "id": "f19fef41",
   "metadata": {
    "scrolled": true
   },
   "outputs": [
    {
     "name": "stdout",
     "output_type": "stream",
     "text": [
      "What do you want deleted? : l\n"
     ]
    },
    {
     "data": {
      "text/plain": [
       "'Heo Word'"
      ]
     },
     "execution_count": 75,
     "metadata": {},
     "output_type": "execute_result"
    }
   ],
   "source": [
    "delete(\"Hello World\" )"
   ]
  },
  {
   "cell_type": "code",
   "execution_count": 76,
   "id": "fd4cc59d",
   "metadata": {},
   "outputs": [
    {
     "name": "stdout",
     "output_type": "stream",
     "text": [
      "What do you want deleted? : i\n"
     ]
    },
    {
     "data": {
      "text/plain": [
       "'Supercalfraglstcexpaldocous'"
      ]
     },
     "execution_count": 76,
     "metadata": {},
     "output_type": "execute_result"
    }
   ],
   "source": [
    "delete(\"Supercalifragilisticexpialidocious\")"
   ]
  },
  {
   "cell_type": "code",
   "execution_count": 78,
   "id": "90b8b8b5",
   "metadata": {},
   "outputs": [
    {
     "name": "stdout",
     "output_type": "stream",
     "text": [
      "What do you want deleted? : data\n"
     ]
    },
    {
     "data": {
      "text/plain": [
       "' 3401 introduction to python for  science'"
      ]
     },
     "execution_count": 78,
     "metadata": {},
     "output_type": "execute_result"
    }
   ],
   "source": [
    "delete(\"data 3401 introduction to python for data science\")"
   ]
  },
  {
   "cell_type": "code",
   "execution_count": null,
   "id": "d647b6f7",
   "metadata": {},
   "outputs": [],
   "source": []
  }
 ],
 "metadata": {
  "kernelspec": {
   "display_name": "Python 3 (ipykernel)",
   "language": "python",
   "name": "python3"
  },
  "language_info": {
   "codemirror_mode": {
    "name": "ipython",
    "version": 3
   },
   "file_extension": ".py",
   "mimetype": "text/x-python",
   "name": "python",
   "nbconvert_exporter": "python",
   "pygments_lexer": "ipython3",
   "version": "3.8.10"
  }
 },
 "nbformat": 4,
 "nbformat_minor": 5
}
